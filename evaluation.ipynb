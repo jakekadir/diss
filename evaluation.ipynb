{
 "cells": [
  {
   "cell_type": "code",
   "execution_count": 1,
   "metadata": {},
   "outputs": [],
   "source": [
    "from recipe_rec.recipe2vec import Recipe2Vec\n",
    "from recipe_rec.simple_search import SimpleSearch\n",
    "from recipe_rec.sbert_embeddings import SBERTRecommender\n",
    "from recipe_rec.feature_generation import FeatureGenerationRecommender\n",
    "from recipe_rec.test_framework import generate_test_data"
   ]
  },
  {
   "cell_type": "code",
   "execution_count": null,
   "metadata": {},
   "outputs": [],
   "source": [
    "systems = {\n",
    "    \"recipe2vec\" : Recipe2Vec(\n",
    "        model_path=\"./recipe_rec/data/recipe2vec_42d574c155524a28a8ae6ee691d96e85.model\",\n",
    "        index_path=\"./recipe_rec/data/recipe2vec_7153b2f49949474495fd9ffe8b340baf.ann\",\n",
    "        verbose=True,\n",
    "    ),\n",
    "    \"simple_search\" : SimpleSearch(),\n",
    "    \"sbert\": SBERTRecommender(\n",
    "        embeddings_path=\"./recipe_rec/data/sbert_ingredient_vectors.pkl\", \n",
    "        index_path=\"./recipe_rec/data/sbert_889c6acca58647418f0df944f261b972.ann\",\n",
    "        verbose=True\n",
    "    ),\n",
    "    \"feature_generation\" : FeatureGenerationRecommender(\n",
    "        embeddings_path=\"./recipe_rec/data/sbert_ingredient_vectors.pkl\",\n",
    "        classifiers_path=\"./recipe_rec/data/trained_classifiers_afe03ef0ef4c4783bfc33d0f1e571a5e.pkl\",\n",
    "        verbose=True,\n",
    "    )\n",
    "}"
   ]
  },
  {
   "cell_type": "code",
   "execution_count": null,
   "metadata": {},
   "outputs": [],
   "source": [
    "eval_data = generate_test_data(rec_systems=systems, n_recipes=25,n_recommendations=10)\n",
    "\n",
    "out_path: str = \"evaluation_data.csv\"\n",
    "eval_data.to_csv(out_path)"
   ]
  }
 ],
 "metadata": {
  "kernelspec": {
   "display_name": ".venv",
   "language": "python",
   "name": "python3"
  },
  "language_info": {
   "codemirror_mode": {
    "name": "ipython",
    "version": 3
   },
   "file_extension": ".py",
   "mimetype": "text/x-python",
   "name": "python",
   "nbconvert_exporter": "python",
   "pygments_lexer": "ipython3",
   "version": "3.8.3"
  },
  "orig_nbformat": 4
 },
 "nbformat": 4,
 "nbformat_minor": 2
}
