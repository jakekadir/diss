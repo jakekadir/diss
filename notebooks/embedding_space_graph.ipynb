{
 "cells": [
  {
   "attachments": {},
   "cell_type": "markdown",
   "metadata": {},
   "source": [
    "# Introduction\n",
    "\n",
    "This notebook is designed to take pre-trained recommender systems and visualise a small sample of the recipes dataset. This is performed for the Word2Vec embeddng space, but the functions outlined are easily adapted for use with other embedding spaces.\n",
    "\n",
    "The recipe's embeddings are generated, projected down to 2D and plotted on a graph. The graph can be written to disk or observed in the notebook (where it's interactive)."
   ]
  },
  {
   "cell_type": "code",
   "execution_count": 1,
   "metadata": {},
   "outputs": [],
   "source": [
    "import sys\n",
    "\n",
    "sys.path.insert(1, \"..\")"
   ]
  },
  {
   "cell_type": "code",
   "execution_count": 2,
   "metadata": {},
   "outputs": [],
   "source": [
    "from recipe_rec.data import load_dataset, store\n",
    "from recipe_rec.models import (\n",
    "    Recipe2Vec,\n",
    "    FeatureGenerationRecommender,\n",
    "    SBERTRecommender,\n",
    "    fastRecipeRecommender,\n",
    ")\n",
    "from recipe_rec import RANDOM_STATE\n",
    "from pathlib import Path\n",
    "import numpy as np\n",
    "from sklearn.manifold import TSNE\n",
    "from sklearn.cluster import KMeans\n",
    "import plotly.graph_objs as go\n",
    "import plotly\n",
    "\n",
    "plotly.io.kaleido.scope.mathjax = None\n",
    "\n",
    "np.random.seed(RANDOM_STATE + 3)"
   ]
  },
  {
   "cell_type": "code",
   "execution_count": 3,
   "metadata": {},
   "outputs": [],
   "source": [
    "load_dataset(\"../data/recipes.csv\")"
   ]
  },
  {
   "cell_type": "code",
   "execution_count": 4,
   "metadata": {},
   "outputs": [],
   "source": [
    "def plot_scatter(\n",
    "    x, y, labels, colors, sys_name, to_disk=True, index_subset=None, html=False\n",
    "):\n",
    "\n",
    "    title = sys_name + \" Embedding Space\"\n",
    "    fig = go.Figure()\n",
    "\n",
    "    if to_disk:\n",
    "\n",
    "        if not html:\n",
    "            if index_subset is None:\n",
    "                index_subset = np.random.randint(low=1, high=len(labels), size=25)\n",
    "            labels_subset = [\n",
    "                labels[i] if i in index_subset else \"\" for i in range(len(labels))\n",
    "            ]\n",
    "            mode = \"markers+text\"\n",
    "        else:\n",
    "            labels_subset = labels\n",
    "            mode = \"markers\"\n",
    "        # print([(labels[v],v) for v in index_subset])\n",
    "\n",
    "    else:\n",
    "        labels_subset = labels\n",
    "        mode = \"markers\"\n",
    "\n",
    "    fig.add_trace(\n",
    "        go.Scattergl(\n",
    "            x=x,\n",
    "            y=y,\n",
    "            mode=mode,\n",
    "            text=labels_subset,\n",
    "            marker=dict(size=5, color=colors),\n",
    "            textposition=\"top center\",\n",
    "            name=title,  # set color equal to a variable\n",
    "        )\n",
    "    )\n",
    "\n",
    "    fig.update_layout(width=2000, height=2000, font={\"size\": 18})\n",
    "\n",
    "    if to_disk:\n",
    "        if html:\n",
    "            fig.write_html(f\"{sys_name}.html\")\n",
    "        else:\n",
    "            fig.write_image(f\"{sys_name}.png\", format=\"png\", engine=\"kaleido\")\n",
    "    else:\n",
    "        fig.show(\"notebook\")\n",
    "\n",
    "\n",
    "def dimension_reducer(vecs):\n",
    "\n",
    "    tsne = TSNE(\n",
    "        n_components=2, random_state=RANDOM_STATE, init=\"pca\", learning_rate=\"auto\"\n",
    "    )\n",
    "    vectors = tsne.fit_transform(vecs)\n",
    "\n",
    "    x = [v[0] for v in vectors]\n",
    "    y = [v[1] for v in vectors]\n",
    "    return x, y\n",
    "\n",
    "\n",
    "def clustering(x, y):\n",
    "\n",
    "    xy_zip = list(zip(x, y))\n",
    "\n",
    "    kmeans = KMeans(n_clusters=15)\n",
    "\n",
    "    cluster_labels = kmeans.fit_predict(xy_zip)\n",
    "\n",
    "    return cluster_labels"
   ]
  },
  {
   "cell_type": "code",
   "execution_count": 5,
   "metadata": {},
   "outputs": [],
   "source": [
    "base_out_path = \"_embeddings.png\""
   ]
  },
  {
   "attachments": {},
   "cell_type": "markdown",
   "metadata": {},
   "source": [
    "# Word2Vec"
   ]
  },
  {
   "attachments": {},
   "cell_type": "markdown",
   "metadata": {},
   "source": [
    "Load a pre-built system:"
   ]
  },
  {
   "cell_type": "code",
   "execution_count": 6,
   "metadata": {},
   "outputs": [],
   "source": [
    "word2vec_model = Recipe2Vec(\n",
    "    model_path=Path(\n",
    "        \"../data/recipe2vec/recipe2vec_06a2136e9ad8459c8ae9e90995b2bd4b.model\"\n",
    "    ),\n",
    "    index_path=Path(\n",
    "        \"../data/recipe2vec/recipe2vec_b8a733c754e64d7db7594c1c2fbb3197.ann\"\n",
    "    ),\n",
    ")"
   ]
  },
  {
   "attachments": {},
   "cell_type": "markdown",
   "metadata": {},
   "source": [
    "Sample recipes to display:"
   ]
  },
  {
   "cell_type": "code",
   "execution_count": 8,
   "metadata": {},
   "outputs": [],
   "source": [
    "# sample some dataframes\n",
    "recipes = store[\"recipes\"]\n",
    "\n",
    "num_samples = 1000\n",
    "\n",
    "recipes_sample = recipes.sample(num_samples, random_state=RANDOM_STATE)\n",
    "\n",
    "recipes_sample_ingredients = recipes_sample[\"RecipeIngredientParts\"].values.tolist()\n",
    "labels = recipes_sample[\"Name\"].values.tolist()"
   ]
  },
  {
   "attachments": {},
   "cell_type": "markdown",
   "metadata": {},
   "source": [
    "Create a function to plot the data:"
   ]
  },
  {
   "cell_type": "code",
   "execution_count": 22,
   "metadata": {},
   "outputs": [],
   "source": [
    "def plot_system_scatter(\n",
    "    system, recipes_sample_ingredients, system_name, index_subset=None, html=False\n",
    "):\n",
    "\n",
    "    # get vectors\n",
    "    vectors = np.array(\n",
    "        [system.recipe_vectorizer(recipe) for recipe in recipes_sample_ingredients]\n",
    "    )\n",
    "\n",
    "    # call dimension reducing func\n",
    "    x, y = dimension_reducer(vectors)\n",
    "\n",
    "    # clustering\n",
    "    cluster_labels = clustering(x, y)\n",
    "\n",
    "    # call plotter\n",
    "    plot_scatter(\n",
    "        x,\n",
    "        y,\n",
    "        labels,\n",
    "        cluster_labels,\n",
    "        sys_name=system_name,\n",
    "        to_disk=True,\n",
    "        index_subset=index_subset,\n",
    "        html=html,\n",
    "    )"
   ]
  },
  {
   "cell_type": "code",
   "execution_count": 15,
   "metadata": {},
   "outputs": [],
   "source": [
    "plot_system_scatter(word2vec_model, recipes_sample_ingredients, \"Word2Vec\", html=False)"
   ]
  }
 ],
 "metadata": {
  "kernelspec": {
   "display_name": ".venv",
   "language": "python",
   "name": "python3"
  },
  "language_info": {
   "codemirror_mode": {
    "name": "ipython",
    "version": 3
   },
   "file_extension": ".py",
   "mimetype": "text/x-python",
   "name": "python",
   "nbconvert_exporter": "python",
   "pygments_lexer": "ipython3",
   "version": "3.8.3"
  },
  "orig_nbformat": 4
 },
 "nbformat": 4,
 "nbformat_minor": 2
}
