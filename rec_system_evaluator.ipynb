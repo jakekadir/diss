{
 "cells": [
  {
   "cell_type": "code",
   "execution_count": 1,
   "metadata": {},
   "outputs": [],
   "source": [
    "from annoy import AnnoyIndex\n",
    "from typing import Dict, List\n",
    "from pathlib import Path\n",
    "from ingredient2vec.recipe_loader import recipe_loader\n",
    "import pandas as pd\n",
    "\n",
    "RANDOM_STATE = 42"
   ]
  },
  {
   "cell_type": "code",
   "execution_count": 9,
   "metadata": {},
   "outputs": [],
   "source": [
    "class RecommendationSystem:\n",
    "    \n",
    "    def __init__(self, name: str, path: Path, vec_size: int):\n",
    "        \n",
    "        self.name = name\n",
    "        self.index_path = path\n",
    "        self.vec_size = vec_size"
   ]
  },
  {
   "cell_type": "code",
   "execution_count": 2,
   "metadata": {},
   "outputs": [],
   "source": [
    "def generate_test_data(rec_systems: List[RecommendationSystem],\n",
    "                       dataset_path: Path, \n",
    "                       num_recipes: int, \n",
    "                       num_recommendations: int,\n",
    "                       out_path: Path):\n",
    "    \n",
    "    # to store evaluation data\n",
    "    evaluation_data = pd.DataFrame({\n",
    "        \"Rec_Name\" : [],\n",
    "        \"Rec_Description\" : [],\n",
    "        \"Rec_Ingredients\" : [],\n",
    "        \"Rec_System\" : [],\n",
    "        \"Origin_Name\" : [],\n",
    "        \"Origin_Description\" : [],\n",
    "        \"Origin_Ingredients\" : []\n",
    "    })\n",
    "    \n",
    "    # load dataset\n",
    "    recipes = recipe_loader()\n",
    "    \n",
    "    # choose a sample of recipes to get recommendations for, fix across all systems\n",
    "    sample = recipes.sample(n=num_recipes, random_state=RANDOM_STATE)\n",
    "    \n",
    "    # for each recommender\n",
    "    for system in rec_systems:\n",
    "        \n",
    "            index = AnnoyIndex(system.vec_size, \"angular\")\n",
    "            index.load(system.index_path)\n",
    "            \n",
    "            for recipe_index in sample.index.values:\n",
    "                \n",
    "                # get the IDs of the recommendations\n",
    "                recommendation_ids = index.get_nns_by_item(recipe_index, num_recommendations)\n",
    "                \n",
    "                # get the full records for the recommendations \n",
    "                recommendations = recipes.iloc[recommendation_ids]\n",
    "                \n",
    "                # note which system gave these recommendations\n",
    "                recommendations[\"Rec_System\"] = system.name\n",
    "                \n",
    "                # rename columns\n",
    "                recommendations = recommendations.rename({\n",
    "                    \"Name\": \"Rec_Name\",\n",
    "                    \"Description\" : \"Rec_Description\",\n",
    "                    \"Ingredients\": \"Rec_Ingredients\",\n",
    "                })\n",
    "                \n",
    "                # drop unneeded columns\n",
    "                recommendations = recommendations[[\"Rec_Name\",\"Rec_Description\",\"Rec_Ingredients\",\"Rec_System\"]]\n",
    "                \n",
    "                # get the details of the originating recipe\n",
    "                origin_recipe = sample.iloc[recipe_index]\n",
    "                \n",
    "                recommendations[\"Origin_Name\"] = origin_recipe[\"Name\"]\n",
    "                recommendations[\"Origin_Description\"] = origin_recipe[\"Description\"]\n",
    "                recommendations[\"Origin_Ingredients\"] = origin_recipe[\"Ingredients\"]\n",
    "                \n",
    "                # add to the master df\n",
    "                pd.concat([evaluation_data, recommendations])\n",
    "    \n",
    "    evaluation_data.to_csv(out_path)\n",
    "                "
   ]
  }
 ],
 "metadata": {
  "kernelspec": {
   "display_name": ".venv",
   "language": "python",
   "name": "python3"
  },
  "language_info": {
   "codemirror_mode": {
    "name": "ipython",
    "version": 3
   },
   "file_extension": ".py",
   "mimetype": "text/x-python",
   "name": "python",
   "nbconvert_exporter": "python",
   "pygments_lexer": "ipython3",
   "version": "3.8.3"
  },
  "orig_nbformat": 4,
  "vscode": {
   "interpreter": {
    "hash": "207bdc028fedaad8767a304f590a2512d39e4178ad48704b78cff486d4be5a5c"
   }
  }
 },
 "nbformat": 4,
 "nbformat_minor": 2
}
