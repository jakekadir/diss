{
 "cells": [
  {
   "cell_type": "code",
   "execution_count": 2,
   "metadata": {},
   "outputs": [],
   "source": [
    "import numpy as np"
   ]
  },
  {
   "cell_type": "code",
   "execution_count": 3,
   "metadata": {},
   "outputs": [],
   "source": [
    "embeddings = np.load(\"weights.npy\", allow_pickle=True)\n",
    "vocab = np.load(\"vocab.npy\", allow_pickle=True)"
   ]
  },
  {
   "cell_type": "code",
   "execution_count": 4,
   "metadata": {},
   "outputs": [],
   "source": [
    "embeddings = embeddings[0]"
   ]
  },
  {
   "cell_type": "code",
   "execution_count": 19,
   "metadata": {},
   "outputs": [
    {
     "data": {
      "text/plain": [
       "array([ 34.224327, -34.208603,  34.21921 ,  34.199192, -34.201797,\n",
       "       -34.230354, -34.233555,  34.230274,  34.235123,  34.216053,\n",
       "        34.197243, -34.20519 , -34.24524 ,  34.24887 ,  34.222305,\n",
       "        34.242714,  34.257446, -34.21814 , -34.248173,  34.24213 ,\n",
       "       -34.2338  , -34.226025,  34.246223,  34.189957,  34.26287 ,\n",
       "        34.211803, -34.23193 ,  34.223736,  34.23019 ,  34.210735,\n",
       "       -34.223698, -34.214   , -34.241695, -34.211555, -34.22405 ,\n",
       "       -34.232994,  34.23651 , -34.227863, -34.251587, -34.218307,\n",
       "        34.23523 ,  34.233307,  34.247158, -34.231216, -34.227745,\n",
       "        34.25656 , -34.22412 , -34.229416, -34.259686,  34.16532 ,\n",
       "       -34.191765,  34.239594, -34.225388,  34.256714, -34.21468 ,\n",
       "       -34.2149  , -34.229607,  34.233505,  34.21538 , -34.254875,\n",
       "        34.215637, -34.246326, -34.221714, -34.214424, -34.2063  ,\n",
       "       -34.22205 , -34.23595 ,  34.207085, -34.204525,  34.215508,\n",
       "        34.245285, -34.23066 , -34.212147,  34.25736 ,  34.231308,\n",
       "       -34.232162,  34.2398  , -34.244175,  34.213943,  34.219284,\n",
       "       -34.217243, -34.222683, -34.196598, -34.184814,  34.22573 ,\n",
       "        34.19908 , -34.24194 , -34.203438,  34.211147, -34.209267,\n",
       "       -34.237144,  34.185463, -34.216118, -34.24071 , -34.196434,\n",
       "        34.228287,  34.263054,  34.261265,  34.250454, -34.22154 ],\n",
       "      dtype=float32)"
      ]
     },
     "execution_count": 19,
     "metadata": {},
     "output_type": "execute_result"
    }
   ],
   "source": [
    "embeddings[1]"
   ]
  },
  {
   "cell_type": "code",
   "execution_count": 13,
   "metadata": {},
   "outputs": [],
   "source": [
    "vocabIndex = lambda query: np.argmax(vocab == query)"
   ]
  },
  {
   "cell_type": "code",
   "execution_count": 44,
   "metadata": {},
   "outputs": [
    {
     "data": {
      "text/plain": [
       "331"
      ]
     },
     "execution_count": 44,
     "metadata": {},
     "output_type": "execute_result"
    }
   ],
   "source": [
    "vocabIndex(\"corn\")"
   ]
  },
  {
   "cell_type": "code",
   "execution_count": 45,
   "metadata": {},
   "outputs": [
    {
     "data": {
      "text/plain": [
       "True"
      ]
     },
     "execution_count": 45,
     "metadata": {},
     "output_type": "execute_result"
    }
   ],
   "source": [
    "from annoy import AnnoyIndex\n",
    "\n",
    "f = 100\n",
    "\n",
    "index = AnnoyIndex(f, \"angular\")\n",
    "for i in range(len(embeddings)):\n",
    "\n",
    "    index.add_item(i, embeddings[i])\n",
    "\n",
    "index.build(10)"
   ]
  },
  {
   "cell_type": "code",
   "execution_count": 48,
   "metadata": {},
   "outputs": [],
   "source": [
    "closest = index.get_nns_by_item(331, 10)"
   ]
  },
  {
   "cell_type": "code",
   "execution_count": 49,
   "metadata": {},
   "outputs": [
    {
     "name": "stdout",
     "output_type": "stream",
     "text": [
      "raw mushrooms\n",
      "chicken broth soup\n",
      "lean round steak\n",
      "Caramel Cappuccino Custard\n",
      "baby potatoes\n",
      "black treacle\n",
      "dried tomatoes\n",
      "skinless chicken thigh\n",
      "Multigrain Baking Mix\n",
      "white chocolate pieces\n"
     ]
    }
   ],
   "source": [
    "for ing in closest:\n",
    "    print(vocab[ing])"
   ]
  }
 ],
 "metadata": {
  "kernelspec": {
   "display_name": ".venv",
   "language": "python",
   "name": "python3"
  },
  "language_info": {
   "codemirror_mode": {
    "name": "ipython",
    "version": 3
   },
   "file_extension": ".py",
   "mimetype": "text/x-python",
   "name": "python",
   "nbconvert_exporter": "python",
   "pygments_lexer": "ipython3",
   "version": "3.8.3"
  },
  "orig_nbformat": 4,
  "vscode": {
   "interpreter": {
    "hash": "207bdc028fedaad8767a304f590a2512d39e4178ad48704b78cff486d4be5a5c"
   }
  }
 },
 "nbformat": 4,
 "nbformat_minor": 2
}
