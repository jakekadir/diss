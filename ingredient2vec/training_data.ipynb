{
 "cells": [
  {
   "attachments": {},
   "cell_type": "markdown",
   "metadata": {},
   "source": [
    "# Import data and map ingredients to IDs"
   ]
  },
  {
   "attachments": {},
   "cell_type": "markdown",
   "metadata": {},
   "source": [
    "This notebook is used to generate training data ready for use in training a Word2Vec model."
   ]
  },
  {
   "attachments": {},
   "cell_type": "markdown",
   "metadata": {},
   "source": [
    "## Creating a vocabulary"
   ]
  },
  {
   "cell_type": "code",
   "execution_count": 1,
   "metadata": {},
   "outputs": [
    {
     "name": "stderr",
     "output_type": "stream",
     "text": [
      "2023-03-08 14:08:15.660977: I tensorflow/core/platform/cpu_feature_guard.cc:193] This TensorFlow binary is optimized with oneAPI Deep Neural Network Library (oneDNN) to use the following CPU instructions in performance-critical operations:  AVX2 FMA\n",
      "To enable them in other operations, rebuild TensorFlow with the appropriate compiler flags.\n",
      "2023-03-08 14:08:16.186154: W tensorflow/compiler/xla/stream_executor/platform/default/dso_loader.cc:64] Could not load dynamic library 'libcudart.so.11.0'; dlerror: libcudart.so.11.0: cannot open shared object file: No such file or directory\n",
      "2023-03-08 14:08:16.186185: I tensorflow/compiler/xla/stream_executor/cuda/cudart_stub.cc:29] Ignore above cudart dlerror if you do not have a GPU set up on your machine.\n",
      "2023-03-08 14:08:17.553053: W tensorflow/compiler/xla/stream_executor/platform/default/dso_loader.cc:64] Could not load dynamic library 'libnvinfer.so.7'; dlerror: libnvinfer.so.7: cannot open shared object file: No such file or directory\n",
      "2023-03-08 14:08:17.553218: W tensorflow/compiler/xla/stream_executor/platform/default/dso_loader.cc:64] Could not load dynamic library 'libnvinfer_plugin.so.7'; dlerror: libnvinfer_plugin.so.7: cannot open shared object file: No such file or directory\n",
      "2023-03-08 14:08:17.553231: W tensorflow/compiler/tf2tensorrt/utils/py_utils.cc:38] TF-TRT Warning: Cannot dlopen some TensorRT libraries. If you would like to use Nvidia GPU with TensorRT, please make sure the missing libraries mentioned above are installed properly.\n"
     ]
    }
   ],
   "source": [
    "import pandas as pd\n",
    "import numpy as np\n",
    "import ast\n",
    "import dill as pickle\n",
    "import tqdm\n",
    "import tensorflow as tf\n",
    "\n",
    "RANDOM_SEED=42"
   ]
  },
  {
   "cell_type": "code",
   "execution_count": 10,
   "metadata": {},
   "outputs": [],
   "source": [
    "# function to parse strings of lists as Python lists\n",
    "def parseTupleFunc(tuple_str: str):\n",
    "\n",
    "    try:\n",
    "        return ast.literal_eval(tuple_str)\n",
    "\n",
    "    except Exception as e:\n",
    "\n",
    "        print(tuple_str)\n",
    "\n",
    "# import column\n",
    "recipes = pd.read_csv(\"../data/recipes.csv\", usecols=[\"RecipeIngredientParts\"]).squeeze(\"columns\")\n",
    "\n",
    "recipes = recipes.drop(recipes[recipes.str[:2] != \"c(\"].index)\n",
    "\n",
    "recipes = recipes.str[1:]\n",
    "\n",
    "parseTuple = lambda tuple_str: ast.literal_eval(tuple_str)\n",
    "\n",
    "recipes = recipes.apply(parseTupleFunc)"
   ]
  },
  {
   "attachments": {},
   "cell_type": "markdown",
   "metadata": {},
   "source": [
    "There are approximately 510,000 recipes:"
   ]
  },
  {
   "cell_type": "code",
   "execution_count": 11,
   "metadata": {},
   "outputs": [
    {
     "data": {
      "text/plain": [
       "(511626,)"
      ]
     },
     "execution_count": 11,
     "metadata": {},
     "output_type": "execute_result"
    }
   ],
   "source": [
    "recipes.shape"
   ]
  },
  {
   "attachments": {},
   "cell_type": "markdown",
   "metadata": {},
   "source": [
    "Produce a vocabulary of all unique ingredients across all recipes and determine its length."
   ]
  },
  {
   "cell_type": "code",
   "execution_count": 12,
   "metadata": {},
   "outputs": [],
   "source": [
    "vocab = recipes.explode().unique()\n",
    "vocab_size = len(vocab)"
   ]
  },
  {
   "attachments": {},
   "cell_type": "markdown",
   "metadata": {},
   "source": [
    "Insert an empty string to the vocabulary (to pad recipes of different numbers of ingedients) at index 0:"
   ]
  },
  {
   "cell_type": "code",
   "execution_count": 13,
   "metadata": {},
   "outputs": [],
   "source": [
    "vocab = np.insert(vocab, 0, \"\")"
   ]
  },
  {
   "attachments": {},
   "cell_type": "markdown",
   "metadata": {},
   "source": [
    "Save the vocabulary to a `npy` binary file."
   ]
  },
  {
   "cell_type": "code",
   "execution_count": 14,
   "metadata": {},
   "outputs": [],
   "source": [
    "# with open(\"vocab.npy\",\"wb\") as f:\n",
    "#     np.save(f, vocab)"
   ]
  },
  {
   "attachments": {},
   "cell_type": "markdown",
   "metadata": {},
   "source": [
    "\n",
    "The word corresponding to a given index is easily retrieved using its index:"
   ]
  },
  {
   "cell_type": "code",
   "execution_count": 15,
   "metadata": {},
   "outputs": [
    {
     "name": "stdout",
     "output_type": "stream",
     "text": [
      "\n",
      "blueberries\n",
      "onion\n"
     ]
    }
   ],
   "source": [
    "print(vocab[0])\n",
    "print(vocab[1])\n",
    "print(vocab[23])"
   ]
  },
  {
   "attachments": {},
   "cell_type": "markdown",
   "metadata": {},
   "source": [
    "We use `argmax` to retrieve the index of a given word:"
   ]
  },
  {
   "cell_type": "code",
   "execution_count": 16,
   "metadata": {},
   "outputs": [
    {
     "name": "stdout",
     "output_type": "stream",
     "text": [
      "0\n",
      "1\n",
      "23\n"
     ]
    }
   ],
   "source": [
    "vocabIndex = lambda query: np.argmax(vocab == query)\n",
    "\n",
    "print(vocabIndex(\"\"))\n",
    "print(vocabIndex(\"blueberries\"))\n",
    "print(vocabIndex(\"onion\"))"
   ]
  },
  {
   "attachments": {},
   "cell_type": "markdown",
   "metadata": {},
   "source": [
    "## Mapping recipe ingredient tokens to vocabulary IDs"
   ]
  },
  {
   "attachments": {},
   "cell_type": "markdown",
   "metadata": {},
   "source": [
    "We now aim to transform each recipe's ingredient tokens into their corresponding ingredient IDs."
   ]
  },
  {
   "cell_type": "code",
   "execution_count": 17,
   "metadata": {},
   "outputs": [],
   "source": [
    "def ingredient_mapper(recipe_ingredients):\n",
    "    return [vocabIndex(ingredient) for ingredient in recipe_ingredients]\n",
    "\n",
    "recipe_ids = recipes.apply(ingredient_mapper)"
   ]
  },
  {
   "attachments": {},
   "cell_type": "markdown",
   "metadata": {},
   "source": [
    "This process takes approximately 10 minutes. \n",
    "We query the resulting array to get the text names of the ingredient:"
   ]
  },
  {
   "cell_type": "code",
   "execution_count": 18,
   "metadata": {},
   "outputs": [
    {
     "data": {
      "text/plain": [
       "['blueberries', 'granulated sugar', 'vanilla yogurt', 'lemon juice']"
      ]
     },
     "execution_count": 18,
     "metadata": {},
     "output_type": "execute_result"
    }
   ],
   "source": [
    "[vocab[id] for id in recipe_ids[0]]"
   ]
  },
  {
   "attachments": {},
   "cell_type": "markdown",
   "metadata": {},
   "source": [
    "And confirm the text ingredient names by using the same ID with the `recipes` array:"
   ]
  },
  {
   "cell_type": "code",
   "execution_count": 19,
   "metadata": {},
   "outputs": [
    {
     "data": {
      "text/plain": [
       "('blueberries', 'granulated sugar', 'vanilla yogurt', 'lemon juice')"
      ]
     },
     "execution_count": 19,
     "metadata": {},
     "output_type": "execute_result"
    }
   ],
   "source": [
    "recipes[0]"
   ]
  },
  {
   "attachments": {},
   "cell_type": "markdown",
   "metadata": {},
   "source": [
    "As the above pre-processing took a relatively long time, we export to a binary for ease of reuse:"
   ]
  },
  {
   "cell_type": "code",
   "execution_count": 2,
   "metadata": {},
   "outputs": [
    {
     "ename": "NameError",
     "evalue": "name 'recipe_ids' is not defined",
     "output_type": "error",
     "traceback": [
      "\u001b[0;31m---------------------------------------------------------------------------\u001b[0m",
      "\u001b[0;31mNameError\u001b[0m                                 Traceback (most recent call last)",
      "Cell \u001b[0;32mIn [2], line 2\u001b[0m\n\u001b[1;32m      1\u001b[0m \u001b[39mwith\u001b[39;00m \u001b[39mopen\u001b[39m(\u001b[39m\"\u001b[39m\u001b[39mrecipe_ids.npy\u001b[39m\u001b[39m\"\u001b[39m,\u001b[39m\"\u001b[39m\u001b[39mwb\u001b[39m\u001b[39m\"\u001b[39m) \u001b[39mas\u001b[39;00m f:\n\u001b[0;32m----> 2\u001b[0m     np\u001b[39m.\u001b[39msave(f, recipe_ids)\n",
      "\u001b[0;31mNameError\u001b[0m: name 'recipe_ids' is not defined"
     ]
    }
   ],
   "source": [
    "# with open(\"recipe_ids.npy\",\"wb\") as f:\n",
    "#     np.save(f, recipe_ids)"
   ]
  },
  {
   "cell_type": "markdown",
   "metadata": {},
   "source": [
    "## Pad data to correct length"
   ]
  },
  {
   "cell_type": "markdown",
   "metadata": {},
   "source": [
    "Collect training data from pickle:"
   ]
  },
  {
   "cell_type": "code",
   "execution_count": 6,
   "metadata": {},
   "outputs": [
    {
     "ename": "UnpicklingError",
     "evalue": "Failed to interpret file 'recipe_ids.npy' as a pickle",
     "output_type": "error",
     "traceback": [
      "\u001b[0;31m---------------------------------------------------------------------------\u001b[0m",
      "\u001b[0;31mEOFError\u001b[0m                                  Traceback (most recent call last)",
      "File \u001b[0;32m~/diss/.venv/lib/python3.8/site-packages/numpy/lib/npyio.py:421\u001b[0m, in \u001b[0;36mload\u001b[0;34m(file, mmap_mode, allow_pickle, fix_imports, encoding)\u001b[0m\n\u001b[1;32m    420\u001b[0m \u001b[39mtry\u001b[39;00m:\n\u001b[0;32m--> 421\u001b[0m     \u001b[39mreturn\u001b[39;00m pickle\u001b[39m.\u001b[39;49mload(fid, \u001b[39m*\u001b[39;49m\u001b[39m*\u001b[39;49mpickle_kwargs)\n\u001b[1;32m    422\u001b[0m \u001b[39mexcept\u001b[39;00m \u001b[39mException\u001b[39;00m \u001b[39mas\u001b[39;00m e:\n",
      "\u001b[0;31mEOFError\u001b[0m: Ran out of input",
      "\nThe above exception was the direct cause of the following exception:\n",
      "\u001b[0;31mUnpicklingError\u001b[0m                           Traceback (most recent call last)",
      "Cell \u001b[0;32mIn [6], line 1\u001b[0m\n\u001b[0;32m----> 1\u001b[0m recipes_ingredient_ids \u001b[39m=\u001b[39m np\u001b[39m.\u001b[39;49mload(\u001b[39m\"\u001b[39;49m\u001b[39mrecipe_ids.npy\u001b[39;49m\u001b[39m\"\u001b[39;49m, allow_pickle\u001b[39m=\u001b[39;49m\u001b[39mTrue\u001b[39;49;00m)\n\u001b[1;32m      2\u001b[0m vocab \u001b[39m=\u001b[39m np\u001b[39m.\u001b[39mload(\u001b[39m\"\u001b[39m\u001b[39mvocab.npy\u001b[39m\u001b[39m\"\u001b[39m, allow_pickle\u001b[39m=\u001b[39m\u001b[39mTrue\u001b[39;00m)\n\u001b[1;32m      3\u001b[0m vocab_size \u001b[39m=\u001b[39m \u001b[39mlen\u001b[39m(vocab)\n",
      "File \u001b[0;32m~/diss/.venv/lib/python3.8/site-packages/numpy/lib/npyio.py:423\u001b[0m, in \u001b[0;36mload\u001b[0;34m(file, mmap_mode, allow_pickle, fix_imports, encoding)\u001b[0m\n\u001b[1;32m    421\u001b[0m     \u001b[39mreturn\u001b[39;00m pickle\u001b[39m.\u001b[39mload(fid, \u001b[39m*\u001b[39m\u001b[39m*\u001b[39mpickle_kwargs)\n\u001b[1;32m    422\u001b[0m \u001b[39mexcept\u001b[39;00m \u001b[39mException\u001b[39;00m \u001b[39mas\u001b[39;00m e:\n\u001b[0;32m--> 423\u001b[0m     \u001b[39mraise\u001b[39;00m pickle\u001b[39m.\u001b[39mUnpicklingError(\n\u001b[1;32m    424\u001b[0m         \u001b[39mf\u001b[39m\u001b[39m\"\u001b[39m\u001b[39mFailed to interpret file \u001b[39m\u001b[39m{\u001b[39;00mfile\u001b[39m!r}\u001b[39;00m\u001b[39m as a pickle\u001b[39m\u001b[39m\"\u001b[39m) \u001b[39mfrom\u001b[39;00m \u001b[39me\u001b[39;00m\n",
      "\u001b[0;31mUnpicklingError\u001b[0m: Failed to interpret file 'recipe_ids.npy' as a pickle"
     ]
    }
   ],
   "source": [
    "recipes_ingredient_ids = np.load(\"recipe_ids.npy\", allow_pickle=True)\n",
    "vocab = np.load(\"vocab.npy\", allow_pickle=True)\n",
    "vocab_size = len(vocab)"
   ]
  },
  {
   "attachments": {},
   "cell_type": "markdown",
   "metadata": {},
   "source": [
    "Calculate the maximum number of ingredients in any single recipe:"
   ]
  },
  {
   "cell_type": "code",
   "execution_count": null,
   "metadata": {},
   "outputs": [],
   "source": [
    "max_ingredients = max(len(rec) for rec in recipe_ids)"
   ]
  },
  {
   "cell_type": "markdown",
   "metadata": {},
   "source": [
    "Pad all recipes to have the max number of ingredients:"
   ]
  },
  {
   "cell_type": "code",
   "execution_count": null,
   "metadata": {},
   "outputs": [],
   "source": [
    "# create array of 0s to fill\n",
    "padded_recipes = np.zeros((len(recipe_ids),max_ingredients),dtype=\"int64\")\n",
    "\n",
    "for i, row in enumerate(recipe_ids):\n",
    "    padded_recipes[i, :len(row)] += row"
   ]
  },
  {
   "cell_type": "markdown",
   "metadata": {},
   "source": [
    "## Collect positive and negative context words"
   ]
  },
  {
   "cell_type": "markdown",
   "metadata": {},
   "source": [
    "Each recipe's list of ingredients is now padded to ensure they have the same length. We continue by aiming to produce a training dataset where each record contains:\n",
    "- The ID of a single ingredient in a particular recipe\n",
    "- The ID of a positive context word found from the same recipe (as determined by a window size of $w$)\n",
    "- Some number ($n$) of negative context words found from the vocabulary\n",
    "\n",
    "Therefore for a recipe with $r$ ingredients we will obtain $r\\times n$ records. \n",
    "\n",
    "The dataset comprises three arrays:\n",
    "- `targets`, a one-dimensional array equal with length equal to the number of unique pairings of each ingredient (in each recipe) with every ingredient in the surrounding window (for a window size $w$). This array stores the target word for each unique pairing.\n",
    "- `contexts`, a two-dimensional array with length equal to the length of `targets`. Each subarray has length equal to the number of negative samples per ingredient pairing, plus one: $n+1$. This array stores the IDs of the context word and the $n$ negatively-sampled context words for each unique ingredient pairing.  \n",
    "- `labels`, a two-dimensional array of equal size to `contexts`, where each subarray stores the labelling of the context words as positive or negative."
   ]
  },
  {
   "attachments": {},
   "cell_type": "markdown",
   "metadata": {},
   "source": [
    "**This likely needs to be reworked - we just need pairs of (target, context, label). This potentially means we can use the `negative_samples` parameter of tf.keras.preprocessing.sequence.skipgrams to generate the entire training dataset.**"
   ]
  },
  {
   "cell_type": "code",
   "execution_count": null,
   "metadata": {},
   "outputs": [
    {
     "name": "stderr",
     "output_type": "stream",
     "text": [
      "  0%|          | 0/511626 [00:00<?, ?it/s]2023-03-07 17:49:14.007881: W tensorflow/compiler/xla/stream_executor/platform/default/dso_loader.cc:64] Could not load dynamic library 'libcuda.so.1'; dlerror: libcuda.so.1: cannot open shared object file: No such file or directory\n",
      "2023-03-07 17:49:14.009233: W tensorflow/compiler/xla/stream_executor/cuda/cuda_driver.cc:265] failed call to cuInit: UNKNOWN ERROR (303)\n",
      "2023-03-07 17:49:14.009309: I tensorflow/compiler/xla/stream_executor/cuda/cuda_diagnostics.cc:156] kernel driver does not appear to be running on this host (jkunix): /proc/driver/nvidia/version does not exist\n",
      "2023-03-07 17:49:14.012548: I tensorflow/core/platform/cpu_feature_guard.cc:193] This TensorFlow binary is optimized with oneAPI Deep Neural Network Library (oneDNN) to use the following CPU instructions in performance-critical operations:  AVX2 FMA\n",
      "To enable them in other operations, rebuild TensorFlow with the appropriate compiler flags.\n",
      "  8%|▊         | 39694/511626 [11:54<44:54:12,  2.92it/s]  "
     ]
    },
    {
     "ename": "",
     "evalue": "",
     "output_type": "error",
     "traceback": [
      "\u001b[1;31mCanceled future for execute_request message before replies were done"
     ]
    },
    {
     "ename": "",
     "evalue": "",
     "output_type": "error",
     "traceback": [
      "\u001b[1;31mThe Kernel crashed while executing code in the the current cell or a previous cell. Please review the code in the cell(s) to identify a possible cause of the failure. Click <a href='https://aka.ms/vscodeJupyterKernelCrash'>here</a> for more info. View Jupyter <a href='command:jupyter.viewOutput'>log</a> for further details."
     ]
    }
   ],
   "source": [
    "\n",
    "targets = []\n",
    "contexts = []\n",
    "labels = []\n",
    "\n",
    "window_size = 4\n",
    "num_negative_samples = 5\n",
    "\n",
    "# for each recipe\n",
    "for recipe in tqdm.tqdm(padded_recipes):\n",
    "    \n",
    "    # generate all positive skip grams using the given window size\n",
    "    positive_skip_grams, _ = tf.keras.preprocessing.sequence.skipgrams(\n",
    "        recipe,\n",
    "        vocabulary_size=vocab_size,\n",
    "        window_size=window_size,\n",
    "        # will generate negative samples separately as the returned format is unhelpful\n",
    "        negative_samples=0\n",
    "    )\n",
    "    \n",
    "    \n",
    "    \n",
    "    \"\"\"\n",
    "    # for each ingredient-positive skipgram pair\n",
    "    for target_ingredient, context_ingredient in positive_skip_grams:\n",
    "        \n",
    "        # create tensor flow the context\n",
    "        context_const = tf.constant([context_ingredient], dtype=\"int64\")\n",
    "        \n",
    "        # expand const to have another dimension for \n",
    "        context_class = tf.expand_dims(context_const, 1)\n",
    "        \n",
    "        # generate negative samples\n",
    "        negative_samples, _, _ = tf.random.log_uniform_candidate_sampler(\n",
    "            true_classes=context_class,\n",
    "            # number of target classes per example\n",
    "            num_true=1,\n",
    "            # number to generate\n",
    "            num_sampled=num_negative_samples,\n",
    "            # ensure all samples in the batch are unique\n",
    "            unique=True,\n",
    "            # max value\n",
    "            range_max=vocab_size,\n",
    "            seed=RANDOM_SEED,\n",
    "            name=\"negative_sampling\"\n",
    "        )\n",
    "        \n",
    "        # combine positive sample with negative samples\n",
    "        context = tf.concat([context_const, negative_samples], 0)\n",
    "        label = tf.constant ([1] + [0]*num_negative_samples, dtype=\"int64\")\n",
    "        # add to training data\n",
    "        targets.append(target_ingredient)\n",
    "        contexts.append(context)\n",
    "        labels.append(label)\n",
    "        \"\"\""
   ]
  },
  {
   "cell_type": "code",
   "execution_count": null,
   "metadata": {},
   "outputs": [],
   "source": [
    "with open(\"targets.pkl\",\"wb\") as f:\n",
    "    pickle.dump(targets, f)\n",
    "with open(\"contexts.pkl\",\"wb\") as f:\n",
    "    pickle.dump(contexts, f)\n",
    "with open(\"labels.pkl\",\"wb\") as f:\n",
    "    pickle.dump(labels, f)"
   ]
  },
  {
   "cell_type": "markdown",
   "metadata": {},
   "source": [
    "We can see some of the training data:"
   ]
  },
  {
   "cell_type": "code",
   "execution_count": null,
   "metadata": {},
   "outputs": [
    {
     "name": "stdout",
     "output_type": "stream",
     "text": [
      "target_index: 4\n",
      "target ingredient: lemon juice\n",
      "context indexes: [   3   12 4945    0   13 1555]\n",
      "context words: ['vanilla yogurt', 'cardamom seed', 'Liptauer cheese', '', 'cumin seed', 'Anjou pears']\n",
      "label: [1 0 0 0 0 0]\n",
      "`\n",
      "target_index: 1\n",
      "target ingredient: blueberries\n",
      "context indexes: [   3    9    6 1863    8   10]\n",
      "context words: ['vanilla yogurt', 'garlic', 'milk', 'chunk pineapple', 'onions', 'clove']\n",
      "label: [1 0 0 0 0 0]\n",
      "`\n",
      "target_index: 3\n",
      "target ingredient: vanilla yogurt\n",
      "context indexes: [   1   15 1192 3124 5904  533]\n",
      "context words: ['blueberries', 'mace', 'unflavored gelatin', 'chestnuts', 'vegan worcestershire sauce', 'turkey Polish kielbasa']\n",
      "label: [1 0 0 0 0 0]\n",
      "`\n",
      "target_index: 4\n",
      "target ingredient: lemon juice\n",
      "context indexes: [  2   4  73 141 221  12]\n",
      "context words: ['granulated sugar', 'lemon juice', 'cake flour', 'dark molasses', 'romano cheese', 'cardamom seed']\n",
      "label: [1 0 0 0 0 0]\n",
      "`\n",
      "target_index: 3\n",
      "target ingredient: vanilla yogurt\n",
      "context indexes: [  2   3  23  84   1 161]\n",
      "context words: ['granulated sugar', 'vanilla yogurt', 'onion', 'cinnamon stick', 'blueberries', 'shortening']\n",
      "label: [1 0 0 0 0 0]\n",
      "`\n",
      "target_index: 4\n",
      "target ingredient: lemon juice\n",
      "context indexes: [   1  109  602 1583   17  104]\n",
      "context words: ['blueberries', 'roma tomatoes', 'bottled clam juice', 'nonfat milk', 'mint leaf', 'cream cheese']\n",
      "label: [1 0 0 0 0 0]\n",
      "`\n",
      "target_index: 2\n",
      "target ingredient: granulated sugar\n",
      "context indexes: [  1  13   0 673 489  33]\n",
      "context words: ['blueberries', 'cumin seed', '', 'low calorie sweetener', 'green bell peppers', 'fresh water']\n",
      "label: [1 0 0 0 0 0]\n",
      "`\n",
      "target_index: 2\n",
      "target ingredient: granulated sugar\n",
      "context indexes: [   3    4    7    9   45 2049]\n",
      "context words: ['vanilla yogurt', 'lemon juice', 'hot green chili peppers', 'garlic', 'mustard powder', 'crayfish tail']\n",
      "label: [1 0 0 0 0 0]\n",
      "`\n",
      "target_index: 1\n",
      "target ingredient: blueberries\n",
      "context indexes: [   2  702   42 2876 2001   22]\n",
      "context words: ['granulated sugar', 'frozen strawberries', 'honey', 'minced garlic cloves', 'lime slices', 'ghee']\n",
      "label: [1 0 0 0 0 0]\n",
      "`\n",
      "target_index: 3\n",
      "target ingredient: vanilla yogurt\n",
      "context indexes: [   4  129    0  161 1108   20]\n",
      "context words: ['lemon juice', 'scallion', '', 'shortening', 'Pepperidge Farm stuffing', 'boneless chicken']\n",
      "label: [1 0 0 0 0 0]\n",
      "`\n"
     ]
    }
   ],
   "source": [
    "print_num = 10\n",
    "for target, context, label in zip(targets[:print_num],contexts[:print_num],labels[:print_num]):\n",
    "    \n",
    "    print(f\"target_index: {target}\")\n",
    "    print(f\"target ingredient: {vocab[target]}\")\n",
    "    print(f\"context indexes: {context}\")\n",
    "    print(f\"context words: {[vocab[c.numpy()] for c in context]}\")\n",
    "    print(f\"label: {label}\")\n",
    "    print(\"`\")"
   ]
  },
  {
   "cell_type": "markdown",
   "metadata": {},
   "source": [
    "It's looking good. We can now build the model using this training data."
   ]
  },
  {
   "attachments": {},
   "cell_type": "markdown",
   "metadata": {},
   "source": [
    "# Generate training dataset"
   ]
  },
  {
   "attachments": {},
   "cell_type": "markdown",
   "metadata": {},
   "source": [
    "Assuming:\n",
    "\n",
    "-Ingredients are imported\n",
    "\n",
    "-Unique IDs given to each ingredient\n",
    "\n",
    "-The vocabulary is established and its size is known\n",
    "\n",
    "-Each recipe is transformed into a list of IDs for each ingredient"
   ]
  },
  {
   "attachments": {},
   "cell_type": "markdown",
   "metadata": {},
   "source": [
    "The training dataset will use a tuple of (target_word, context, label), where:\n",
    "- Target_word is a single target word ID\n",
    "- Context is an array of context word IDs\n",
    "- Label is an array of context word IDs, where the value at an index of the array describes if a corresponding element in the context array is a positive or negative sample"
   ]
  },
  {
   "attachments": {},
   "cell_type": "markdown",
   "metadata": {},
   "source": [
    "1. Import ingredients into a 2D array\n",
    "2. Identify unique ingredients\n",
    "3. Assign IDs to each unique ingredient\n",
    "4. Perform some exploration to determine relevant window size and add padding, OR\n",
    "    \n",
    "    a. Choose a window size, $n$\n",
    "\n",
    "    b. For each recipe\n",
    "        i. For each ingredient in the recipe\n",
    "            x. Randomy sample $n$ other ingredients (and get their IDs) from the window without replacement\n",
    "            y. Pad if not enough ingredients to fulfill the window size\n",
    "            z. Add the token's ID and its neighbouring sample to a 2D array\n",
    "5. Choose output vector size\n",
    "6. Create Keras model and train"
   ]
  },
  {
   "attachments": {},
   "cell_type": "markdown",
   "metadata": {},
   "source": [
    "# Research\n"
   ]
  },
  {
   "attachments": {},
   "cell_type": "markdown",
   "metadata": {},
   "source": [
    "## Thorough Stanford notes:\n",
    "https://web.stanford.edu/~jurafsky/slp3/6.pdf\n",
    "https://web.stanford.edu/~jurafsky/slp3/\n",
    "\n",
    "## CBOW Example\n",
    "https://www.kdnuggets.com/2018/04/implementing-deep-learning-methods-feature-engineering-text-data-cbow.html\n",
    "\n",
    "## TF Skipgram implementation\n",
    "https://www.tensorflow.org/tutorials/text/word2vec#compile_all_steps_into_one_function\n",
    "https://www.tensorflow.org/tutorials/text/word2vec#compile_all_steps_into_one_function\n",
    "\n",
    "\n",
    "## Word2Vec Illustrated\n",
    "https://jalammar.github.io/illustrated-word2vec/"
   ]
  },
  {
   "cell_type": "code",
   "execution_count": 21,
   "metadata": {},
   "outputs": [
    {
     "data": {
      "text/plain": [
       "'\\nimport tensorflow as tf\\nfrom tensorflow import keras\\nfrom tensorflow.keras import layers\\nimport numpy as np\\n\\nfrom keras.preprocessing import text\\n\\n# raw data\\nsentences = [\\n    \"hi\",\\n    \"hello\",\\n    \"another\",\\n    \"word two\",\\n    \"a much longer sentence with a word\"\\n]\\ny = [\"a\", \"b\", \"c\"]\\n\\n# fit tokenizer\\ntokenizer = text.Tokenizer()\\ntokenizer.fit_on_texts(sentences)\\n\\n# get unique ids of each word\\nvocab = tokenizer.word_index\\nvocab_size = len(vocab)\\n\\nnp.random.seed(42)\\n\\n# generate 10 integers between 0 and 100\\nmax_int_value = 100\\n# inps = np.random.randint(low=max_int_value, size=(10,2))\\n\\ninps = [\\n    2,\\n    9,\\n    4,\\n    6]\\n\\n# size of outputted vector\\noutput_size = 5\\n\\nmodel = keras.Sequential(\\n    [   \\n        # convert word instance to an embedding\\n        layers.Embedding(\\n            # number of distinct, unique input values\\n            input_dim=10, \\n            output_dim=output_size,\\n            # number of values per input\\n            input_length=1\\n        )\\n    ]\\n)\\n\\nmodel.compile(\"rmsprop\", \"mse\")\\n\\nouts = model.predict(inps)\\nprint(outs.shape)\\n\\n'"
      ]
     },
     "execution_count": 21,
     "metadata": {},
     "output_type": "execute_result"
    }
   ],
   "source": [
    "\"\"\"\n",
    "import tensorflow as tf\n",
    "from tensorflow import keras\n",
    "from tensorflow.keras import layers\n",
    "import numpy as np\n",
    "\n",
    "from keras.preprocessing import text\n",
    "\n",
    "# raw data\n",
    "sentences = [\n",
    "    \"hi\",\n",
    "    \"hello\",\n",
    "    \"another\",\n",
    "    \"word two\",\n",
    "    \"a much longer sentence with a word\"\n",
    "]\n",
    "y = [\"a\", \"b\", \"c\"]\n",
    "\n",
    "# fit tokenizer\n",
    "tokenizer = text.Tokenizer()\n",
    "tokenizer.fit_on_texts(sentences)\n",
    "\n",
    "# get unique ids of each word\n",
    "vocab = tokenizer.word_index\n",
    "vocab_size = len(vocab)\n",
    "\n",
    "np.random.seed(42)\n",
    "\n",
    "# generate 10 integers between 0 and 100\n",
    "max_int_value = 100\n",
    "# inps = np.random.randint(low=max_int_value, size=(10,2))\n",
    "\n",
    "inps = [\n",
    "    2,\n",
    "    9,\n",
    "    4,\n",
    "    6]\n",
    "\n",
    "# size of outputted vector\n",
    "output_size = 5\n",
    "\n",
    "model = keras.Sequential(\n",
    "    [   \n",
    "        # convert word instance to an embedding\n",
    "        layers.Embedding(\n",
    "            # number of distinct, unique input values\n",
    "            input_dim=10, \n",
    "            output_dim=output_size,\n",
    "            # number of values per input\n",
    "            input_length=1\n",
    "        )\n",
    "    ]\n",
    ")\n",
    "\n",
    "model.compile(\"rmsprop\", \"mse\")\n",
    "\n",
    "outs = model.predict(inps)\n",
    "print(outs.shape)\n",
    "\n",
    "\"\"\""
   ]
  }
 ],
 "metadata": {
  "kernelspec": {
   "display_name": ".venv",
   "language": "python",
   "name": "python3"
  },
  "language_info": {
   "codemirror_mode": {
    "name": "ipython",
    "version": 3
   },
   "file_extension": ".py",
   "mimetype": "text/x-python",
   "name": "python",
   "nbconvert_exporter": "python",
   "pygments_lexer": "ipython3",
   "version": "3.8.3"
  },
  "orig_nbformat": 4,
  "vscode": {
   "interpreter": {
    "hash": "207bdc028fedaad8767a304f590a2512d39e4178ad48704b78cff486d4be5a5c"
   }
  }
 },
 "nbformat": 4,
 "nbformat_minor": 2
}
