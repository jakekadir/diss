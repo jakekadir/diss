{
 "cells": [
  {
   "attachments": {},
   "cell_type": "markdown",
   "metadata": {},
   "source": [
    "This file was/is used to update the hand-labelled file with the ingredients column to make manual classification easier."
   ]
  },
  {
   "cell_type": "code",
   "execution_count": 1,
   "metadata": {},
   "outputs": [
    {
     "name": "stderr",
     "output_type": "stream",
     "text": [
      "2023-03-10 17:49:48.513178: I tensorflow/core/platform/cpu_feature_guard.cc:193] This TensorFlow binary is optimized with oneAPI Deep Neural Network Library (oneDNN) to use the following CPU instructions in performance-critical operations:  AVX2 FMA\n",
      "To enable them in other operations, rebuild TensorFlow with the appropriate compiler flags.\n",
      "2023-03-10 17:49:50.097840: W tensorflow/compiler/xla/stream_executor/platform/default/dso_loader.cc:64] Could not load dynamic library 'libnvinfer.so.7'; dlerror: libnvinfer.so.7: cannot open shared object file: No such file or directory\n",
      "2023-03-10 17:49:50.098013: W tensorflow/compiler/xla/stream_executor/platform/default/dso_loader.cc:64] Could not load dynamic library 'libnvinfer_plugin.so.7'; dlerror: libnvinfer_plugin.so.7: cannot open shared object file: No such file or directory\n",
      "2023-03-10 17:49:50.098021: W tensorflow/compiler/tf2tensorrt/utils/py_utils.cc:38] TF-TRT Warning: Cannot dlopen some TensorRT libraries. If you would like to use Nvidia GPU with TensorRT, please make sure the missing libraries mentioned above are installed properly.\n"
     ]
    }
   ],
   "source": [
    "import pandas as pd\n",
    "import ast\n",
    "from sentence_transformers import SentenceTransformer\n",
    "\n",
    "RANDOM_STATE = 42"
   ]
  },
  {
   "cell_type": "code",
   "execution_count": 2,
   "metadata": {},
   "outputs": [],
   "source": [
    "recipes = pd.read_csv(\"../data/recipes.csv\")"
   ]
  },
  {
   "cell_type": "code",
   "execution_count": 3,
   "metadata": {},
   "outputs": [
    {
     "name": "stderr",
     "output_type": "stream",
     "text": [
      "/tmp/ipykernel_1019988/2735320222.py:1: DtypeWarning: Columns (11,12,13,14,15,16,17,18,19,20,21) have mixed types. Specify dtype option on import or set low_memory=False.\n",
      "  df = pd.read_csv(\"trimmed_recipes_labelled_savoury.csv\")\n"
     ]
    }
   ],
   "source": [
    "df = pd.read_csv(\"trimmed_recipes_labelled_savoury.csv\")\n",
    "\n",
    "df[\"OriginalIndex\"] = df[\"OriginalIndex\"].astype(\"int64\")\n",
    "\n",
    "df = df.set_index(\"OriginalIndex\")"
   ]
  },
  {
   "cell_type": "code",
   "execution_count": 4,
   "metadata": {},
   "outputs": [],
   "source": [
    "labelled_recipes = df.join(\n",
    "    recipes[list(recipes.columns.difference(df.columns))], how=\"inner\"\n",
    ")"
   ]
  },
  {
   "cell_type": "code",
   "execution_count": 5,
   "metadata": {},
   "outputs": [],
   "source": [
    "labelled_recipes = labelled_recipes[\n",
    "    [\"Savoury\", \"Acidic\", \"Name\", \"RecipeIngredientParts\", \"Description\", \"RecipeId\"]\n",
    "]"
   ]
  },
  {
   "cell_type": "code",
   "execution_count": 6,
   "metadata": {},
   "outputs": [],
   "source": [
    "labelled_recipes[\"RecipeIngredientParts\"] = labelled_recipes[\n",
    "    \"RecipeIngredientParts\"\n",
    "].str[2:]"
   ]
  },
  {
   "cell_type": "code",
   "execution_count": 8,
   "metadata": {},
   "outputs": [],
   "source": [
    "labelled_recipes[\"RecipeIngredientParts\"] = labelled_recipes[\n",
    "    \"RecipeIngredientParts\"\n",
    "].str[:-1]"
   ]
  },
  {
   "cell_type": "code",
   "execution_count": 9,
   "metadata": {},
   "outputs": [
    {
     "data": {
      "text/plain": [
       "404702    \"strawberry\", \"feta cheese\", \"avocado\", \"walnu...\n",
       "79220     \"extra virgin olive oil\", \"pine nuts\", \"shallo...\n",
       "403416    \"parsley\", \"stewing beef\", \"onion\", \"celery ri...\n",
       "440465    \"frozen puff pastry\", \"butter\", \"flour\", \"milk...\n",
       "96727                                      \"butter\", \"salt\"\n",
       "                                ...                        \n",
       "160157    \"center-cut pork chops\", \"olive oil\", \"lime ju...\n",
       "121096    \"boneless skinless chicken breasts\", \"extra vi...\n",
       "465158          \"butter\", \"eggs\", \"salt\", \"pepper\", \"water\"\n",
       "409847    \"onion\", \"green bell peppers\", \"fresh ginger\",...\n",
       "357276    \"jicama\", \"oranges\", \"fresh lemon juice\", \"sal...\n",
       "Name: RecipeIngredientParts, Length: 522517, dtype: object"
      ]
     },
     "execution_count": 9,
     "metadata": {},
     "output_type": "execute_result"
    }
   ],
   "source": [
    "labelled_recipes[\"RecipeIngredientParts\"]"
   ]
  },
  {
   "cell_type": "code",
   "execution_count": null,
   "metadata": {},
   "outputs": [],
   "source": [
    "labelled_recipes.to_csv(\"trimmed_recipes_labelled.csv\")"
   ]
  }
 ],
 "metadata": {
  "kernelspec": {
   "display_name": ".venv",
   "language": "python",
   "name": "python3"
  },
  "language_info": {
   "codemirror_mode": {
    "name": "ipython",
    "version": 3
   },
   "file_extension": ".py",
   "mimetype": "text/x-python",
   "name": "python",
   "nbconvert_exporter": "python",
   "pygments_lexer": "ipython3",
   "version": "3.8.3"
  },
  "orig_nbformat": 4,
  "vscode": {
   "interpreter": {
    "hash": "207bdc028fedaad8767a304f590a2512d39e4178ad48704b78cff486d4be5a5c"
   }
  }
 },
 "nbformat": 4,
 "nbformat_minor": 2
}
