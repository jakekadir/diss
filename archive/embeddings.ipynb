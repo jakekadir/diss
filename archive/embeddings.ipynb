{
 "cells": [
  {
   "cell_type": "code",
   "execution_count": 1,
   "metadata": {},
   "outputs": [],
   "source": [
    "import pandas as pd\n",
    "import pathlib\n",
    "from recipe_preprocessor import import_recipes\n",
    "from sentence_transformers import SentenceTransformer\n",
    "from annoy import AnnoyIndex"
   ]
  },
  {
   "cell_type": "markdown",
   "metadata": {},
   "source": [
    "Prepare model."
   ]
  },
  {
   "cell_type": "code",
   "execution_count": 2,
   "metadata": {},
   "outputs": [],
   "source": [
    "transformer_model: str = \"paraphrase-MiniLM-L6-v2\"\n",
    "\n",
    "model: SentenceTransformer = SentenceTransformer(transformer_model)"
   ]
  },
  {
   "cell_type": "markdown",
   "metadata": {},
   "source": [
    "Load data."
   ]
  },
  {
   "cell_type": "code",
   "execution_count": 3,
   "metadata": {},
   "outputs": [],
   "source": [
    "recipe_path = pathlib.Path(\"./data/recipes.csv\")\n",
    "recipes: pd.DataFrame = import_recipes(\"./data/recipes.csv\")"
   ]
  },
  {
   "cell_type": "code",
   "execution_count": 70,
   "metadata": {},
   "outputs": [],
   "source": [
    "ingredients = recipes[\"RecipeIngredientParts\"].values"
   ]
  },
  {
   "cell_type": "code",
   "execution_count": 71,
   "metadata": {},
   "outputs": [],
   "source": [
    "# main = set()\n",
    "# for ing in ingredients:\n",
    "#     main.update(ing)"
   ]
  },
  {
   "cell_type": "code",
   "execution_count": 77,
   "metadata": {},
   "outputs": [],
   "source": [
    "macronutrient_cols = [\"Calories\", \"FatContent\", \"SaturatedFatContent\", \"CholesterolContent\", \"SodiumContent\", \"CarbohydrateContent\", \"FiberContent\", \"SugarContent\", \"ProteinContent\"]\n",
    "\n",
    "macro_grouper = lambda row: [row[col] for col in macronutrient_cols]\n",
    "\n",
    "recipes[\"Macros\"] = recipes.apply(macro_grouper, axis=1)"
   ]
  },
  {
   "cell_type": "code",
   "execution_count": 80,
   "metadata": {},
   "outputs": [
    {
     "data": {
      "text/plain": [
       "9"
      ]
     },
     "execution_count": 80,
     "metadata": {},
     "output_type": "execute_result"
    }
   ],
   "source": [
    "len(recipes[\"Macros\"][0])"
   ]
  },
  {
   "cell_type": "code",
   "execution_count": 82,
   "metadata": {},
   "outputs": [
    {
     "data": {
      "text/plain": [
       "True"
      ]
     },
     "execution_count": 82,
     "metadata": {},
     "output_type": "execute_result"
    }
   ],
   "source": [
    "embedding_indexes = zip(recipes[\"Macros\"].index, recipes[\"Macros\"])\n",
    "vec_size = 9\n",
    "\n",
    "index = AnnoyIndex(vec_size, \"angular\")\n",
    "\n",
    "for embed in embedding_indexes:\n",
    "    index.add_item(embed[0], embed[1])\n",
    "    \n",
    "index.build(10)\n",
    "index.save(f\"testIndexMacros.ann\")\n",
    "\n"
   ]
  },
  {
   "cell_type": "code",
   "execution_count": 84,
   "metadata": {},
   "outputs": [
    {
     "data": {
      "text/plain": [
       "True"
      ]
     },
     "execution_count": 84,
     "metadata": {},
     "output_type": "execute_result"
    }
   ],
   "source": [
    "index = AnnoyIndex(vec_size, 'angular')\n",
    "index.load('testIndexMacros.ann')"
   ]
  },
  {
   "cell_type": "code",
   "execution_count": 4,
   "metadata": {},
   "outputs": [
    {
     "data": {
      "text/plain": [
       "<pandas.core.indexing._iLocIndexer at 0x7f46bc7e83b0>"
      ]
     },
     "execution_count": 4,
     "metadata": {},
     "output_type": "execute_result"
    }
   ],
   "source": [
    "# recipes[\"Macros\"].iloc[100]\n",
    "recipes.iloc"
   ]
  },
  {
   "cell_type": "code",
   "execution_count": 92,
   "metadata": {},
   "outputs": [],
   "source": [
    "testEmbedding = [55., 2., 0., 0., 7., 8., 1., 5., 1.5]\n",
    "vectors = [recipes[\"Name\"].loc[i] for i in index.get_nns_by_vector(testEmbedding, 10)]"
   ]
  },
  {
   "cell_type": "code",
   "execution_count": 93,
   "metadata": {},
   "outputs": [
    {
     "data": {
      "text/plain": [
       "['Korean Sesame Seed Cookies',\n",
       " 'Roasted Cherry or Grape Tomatoes',\n",
       " 'Portuguese Beef and Onions (Bifes De Cebolada)',\n",
       " \"Julie's Rhubarb Bars or Crisp\",\n",
       " 'Peanut Butter, Banana, Chocolate Chip Brownies (Vegan or Not)',\n",
       " 'Roasted Tomato, Pepper, and Red Onion Soup',\n",
       " 'Raw Apple Crumble (No Bake)',\n",
       " 'Baked Vegetable Ratatouille',\n",
       " 'Maple-Pecan Granola',\n",
       " 'Siena Cake - Panforte de Siena']"
      ]
     },
     "execution_count": 93,
     "metadata": {},
     "output_type": "execute_result"
    }
   ],
   "source": [
    "vectors"
   ]
  },
  {
   "cell_type": "markdown",
   "metadata": {},
   "source": [
    "Create embeddings."
   ]
  },
  {
   "cell_type": "code",
   "execution_count": 46,
   "metadata": {},
   "outputs": [],
   "source": [
    "recipes[\"RecipeIngredientString\"] = recipes[\"RecipeIngredientParts\"].str.join(\" \")"
   ]
  },
  {
   "cell_type": "code",
   "execution_count": 48,
   "metadata": {},
   "outputs": [],
   "source": [
    "column_to_embed = \"RecipeIngredientString\""
   ]
  },
  {
   "attachments": {},
   "cell_type": "markdown",
   "metadata": {},
   "source": [
    "## Generate embeddings and store in Annoy index"
   ]
  },
  {
   "cell_type": "code",
   "execution_count": 50,
   "metadata": {},
   "outputs": [
    {
     "data": {
      "text/plain": [
       "True"
      ]
     },
     "execution_count": 50,
     "metadata": {},
     "output_type": "execute_result"
    }
   ],
   "source": [
    "embeddings = model.encode(recipes[column_to_embed ].values)\n",
    "embedding_indexes = zip(recipes[column_to_embed ].index, embeddings)\n",
    "vec_size = 384\n",
    "\n",
    "index = AnnoyIndex(vec_size, \"angular\")\n",
    "\n",
    "for embed in embedding_indexes:\n",
    "    index.add_item(embed[0], embed[1])\n",
    "    \n",
    "index.build(10)\n",
    "index.save(f\"testIndex{column_to_embed}.ann\")"
   ]
  },
  {
   "cell_type": "code",
   "execution_count": 2,
   "metadata": {},
   "outputs": [
    {
     "ename": "NameError",
     "evalue": "name 'recipes' is not defined",
     "output_type": "error",
     "traceback": [
      "\u001b[0;31m---------------------------------------------------------------------------\u001b[0m",
      "\u001b[0;31mNameError\u001b[0m                                 Traceback (most recent call last)",
      "Cell \u001b[0;32mIn [2], line 1\u001b[0m\n\u001b[0;32m----> 1\u001b[0m recipes\n",
      "\u001b[0;31mNameError\u001b[0m: name 'recipes' is not defined"
     ]
    }
   ],
   "source": [
    "recipes"
   ]
  },
  {
   "attachments": {},
   "cell_type": "markdown",
   "metadata": {},
   "source": [
    "## Query Annoy index"
   ]
  },
  {
   "attachments": {},
   "cell_type": "markdown",
   "metadata": {},
   "source": [
    "Load index to memory"
   ]
  },
  {
   "cell_type": "code",
   "execution_count": 51,
   "metadata": {},
   "outputs": [
    {
     "data": {
      "text/plain": [
       "True"
      ]
     },
     "execution_count": 51,
     "metadata": {},
     "output_type": "execute_result"
    }
   ],
   "source": [
    "index = AnnoyIndex(vec_size, 'angular')\n",
    "index.load('testIndex.ann')"
   ]
  },
  {
   "attachments": {},
   "cell_type": "markdown",
   "metadata": {},
   "source": [
    "Generate query embedding and execute query"
   ]
  },
  {
   "cell_type": "code",
   "execution_count": 52,
   "metadata": {},
   "outputs": [],
   "source": [
    "\n",
    "testEmbedding = model.encode(\"sugar flour egg\")\n",
    "\n",
    "vectors = [recipes[\"Name\"].loc[i] for i in index.get_nns_by_vector(testEmbedding, 10)]"
   ]
  },
  {
   "cell_type": "code",
   "execution_count": 53,
   "metadata": {},
   "outputs": [
    {
     "data": {
      "text/plain": [
       "['Oven Baked Eggs',\n",
       " 'Whole Wheat Buttermilk Pancakes (With Wheat Germ)',\n",
       " 'Buttermilk Wheat Pancakes',\n",
       " 'Whole Wheat Buttermilk Pancakes',\n",
       " 'Peanut Butter Eggs',\n",
       " 'Rice Flour Pancakes',\n",
       " 'Flourless Peanut Butter Pancakes',\n",
       " 'Easy Cornmeal Buttermilk Pancakes',\n",
       " 'Recipe: Homemade Buttermilk Pancakes',\n",
       " 'Healthy Low-Fat Whole Wheat Buttermilk Pancakes']"
      ]
     },
     "execution_count": 53,
     "metadata": {},
     "output_type": "execute_result"
    }
   ],
   "source": [
    "vectors"
   ]
  }
 ],
 "metadata": {
  "kernelspec": {
   "display_name": ".venv",
   "language": "python",
   "name": "python3"
  },
  "language_info": {
   "codemirror_mode": {
    "name": "ipython",
    "version": 3
   },
   "file_extension": ".py",
   "mimetype": "text/x-python",
   "name": "python",
   "nbconvert_exporter": "python",
   "pygments_lexer": "ipython3",
   "version": "3.8.3"
  },
  "orig_nbformat": 4,
  "vscode": {
   "interpreter": {
    "hash": "207bdc028fedaad8767a304f590a2512d39e4178ad48704b78cff486d4be5a5c"
   }
  }
 },
 "nbformat": 4,
 "nbformat_minor": 2
}
