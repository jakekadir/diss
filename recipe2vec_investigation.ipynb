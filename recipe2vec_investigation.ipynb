{
 "cells": [
  {
   "cell_type": "code",
   "execution_count": 3,
   "metadata": {},
   "outputs": [],
   "source": [
    "from recipe_rec import recipes, unique_ingredients\n",
    "from recipe_rec.recipe2vec import Recipe2Vec\n",
    "import itertools\n",
    "import pickle"
   ]
  },
  {
   "attachments": {},
   "cell_type": "markdown",
   "metadata": {},
   "source": [
    "# Effect of Alpha and Num. Epochs on Loss Stabilisation"
   ]
  },
  {
   "cell_type": "code",
   "execution_count": 12,
   "metadata": {},
   "outputs": [
    {
     "name": "stderr",
     "output_type": "stream",
     "text": [
      "INFO:recipe_rec.recipe2vec:Training Word2Vec model.\n",
      "INFO:recipe_rec.recipe2vec:Completed epoch 1.\n",
      "INFO:recipe_rec.recipe2vec:Completed epoch 2.\n",
      "INFO:recipe_rec.recipe2vec:Completed epoch 3.\n",
      "INFO:recipe_rec.recipe2vec:Completed epoch 4.\n",
      "INFO:recipe_rec.recipe2vec:Completed epoch 5.\n",
      "INFO:recipe_rec.recipe2vec:Completed epoch 6.\n",
      "INFO:recipe_rec.recipe2vec:Completed epoch 7.\n",
      "INFO:recipe_rec.recipe2vec:Completed epoch 8.\n",
      "INFO:recipe_rec.recipe2vec:Completed epoch 9.\n",
      "INFO:recipe_rec.recipe2vec:Completed epoch 10.\n",
      "INFO:recipe_rec.recipe2vec:Completed epoch 11.\n",
      "INFO:recipe_rec.recipe2vec:Completed epoch 12.\n",
      "INFO:recipe_rec.recipe2vec:Completed epoch 13.\n",
      "INFO:recipe_rec.recipe2vec:Completed epoch 14.\n",
      "INFO:recipe_rec.recipe2vec:Completed epoch 15.\n",
      "INFO:recipe_rec.recipe2vec:Completed epoch 16.\n",
      "INFO:recipe_rec.recipe2vec:Completed epoch 17.\n",
      "INFO:recipe_rec.recipe2vec:Completed epoch 18.\n",
      "INFO:recipe_rec.recipe2vec:Completed epoch 19.\n",
      "INFO:recipe_rec.recipe2vec:Completed epoch 20.\n",
      "INFO:recipe_rec.recipe2vec:Completed epoch 21.\n",
      "INFO:recipe_rec.recipe2vec:Completed epoch 22.\n",
      "INFO:recipe_rec.recipe2vec:Completed epoch 23.\n",
      "INFO:recipe_rec.recipe2vec:Completed epoch 24.\n",
      "INFO:recipe_rec.recipe2vec:Completed epoch 25.\n",
      "INFO:recipe_rec.recipe2vec:Completed epoch 26.\n",
      "INFO:recipe_rec.recipe2vec:Completed epoch 27.\n",
      "INFO:recipe_rec.recipe2vec:Completed epoch 28.\n",
      "INFO:recipe_rec.recipe2vec:Completed epoch 29.\n",
      "INFO:recipe_rec.recipe2vec:Completed epoch 30.\n",
      "INFO:recipe_rec.recipe2vec:Completed epoch 31.\n",
      "INFO:recipe_rec.recipe2vec:Completed epoch 32.\n",
      "INFO:recipe_rec.recipe2vec:Completed epoch 33.\n",
      "INFO:recipe_rec.recipe2vec:Completed epoch 34.\n",
      "INFO:recipe_rec.recipe2vec:Completed epoch 35.\n",
      "INFO:recipe_rec.recipe2vec:Completed epoch 36.\n",
      "INFO:recipe_rec.recipe2vec:Completed epoch 37.\n",
      "INFO:recipe_rec.recipe2vec:Completed epoch 38.\n",
      "INFO:recipe_rec.recipe2vec:Completed epoch 39.\n",
      "INFO:recipe_rec.recipe2vec:Completed epoch 40.\n",
      "INFO:recipe_rec.recipe2vec:Completed epoch 41.\n",
      "INFO:recipe_rec.recipe2vec:Completed epoch 42.\n",
      "INFO:recipe_rec.recipe2vec:Completed epoch 43.\n",
      "INFO:recipe_rec.recipe2vec:Completed epoch 44.\n",
      "INFO:recipe_rec.recipe2vec:Completed epoch 45.\n",
      "INFO:recipe_rec.recipe2vec:Completed epoch 46.\n",
      "INFO:recipe_rec.recipe2vec:Completed epoch 47.\n",
      "INFO:recipe_rec.recipe2vec:Completed epoch 48.\n",
      "INFO:recipe_rec.recipe2vec:Completed epoch 49.\n",
      "INFO:recipe_rec.recipe2vec:Completed epoch 50.\n",
      "INFO:recipe_rec.recipe2vec:Completed epoch 51.\n",
      "INFO:recipe_rec.recipe2vec:Completed epoch 52.\n",
      "INFO:recipe_rec.recipe2vec:Completed epoch 53.\n",
      "INFO:recipe_rec.recipe2vec:Completed epoch 54.\n",
      "INFO:recipe_rec.recipe2vec:Completed epoch 55.\n",
      "INFO:recipe_rec.recipe2vec:Completed epoch 56.\n",
      "INFO:recipe_rec.recipe2vec:Completed epoch 57.\n",
      "INFO:recipe_rec.recipe2vec:Completed epoch 58.\n",
      "INFO:recipe_rec.recipe2vec:Completed epoch 59.\n",
      "INFO:recipe_rec.recipe2vec:Completed epoch 60.\n",
      "INFO:recipe_rec.recipe2vec:Completed epoch 61.\n",
      "INFO:recipe_rec.recipe2vec:Completed epoch 62.\n",
      "INFO:recipe_rec.recipe2vec:Completed epoch 63.\n",
      "INFO:recipe_rec.recipe2vec:Completed epoch 64.\n",
      "INFO:recipe_rec.recipe2vec:Completed epoch 65.\n",
      "INFO:recipe_rec.recipe2vec:Completed epoch 66.\n",
      "INFO:recipe_rec.recipe2vec:Completed epoch 67.\n",
      "INFO:recipe_rec.recipe2vec:Completed epoch 68.\n",
      "INFO:recipe_rec.recipe2vec:Completed epoch 69.\n",
      "INFO:recipe_rec.recipe2vec:Completed epoch 70.\n",
      "INFO:recipe_rec.recipe2vec:Completed epoch 71.\n",
      "INFO:recipe_rec.recipe2vec:Completed epoch 72.\n",
      "INFO:recipe_rec.recipe2vec:Completed epoch 73.\n",
      "INFO:recipe_rec.recipe2vec:Completed epoch 74.\n",
      "INFO:recipe_rec.recipe2vec:Completed epoch 75.\n",
      "INFO:recipe_rec.recipe2vec:Completed epoch 76.\n",
      "INFO:recipe_rec.recipe2vec:Completed epoch 77.\n",
      "INFO:recipe_rec.recipe2vec:Completed epoch 78.\n",
      "INFO:recipe_rec.recipe2vec:Completed epoch 79.\n",
      "INFO:recipe_rec.recipe2vec:Completed epoch 80.\n",
      "INFO:recipe_rec.recipe2vec:Completed epoch 81.\n",
      "INFO:recipe_rec.recipe2vec:Completed epoch 82.\n",
      "INFO:recipe_rec.recipe2vec:Completed epoch 83.\n",
      "INFO:recipe_rec.recipe2vec:Completed epoch 84.\n",
      "INFO:recipe_rec.recipe2vec:Completed epoch 85.\n",
      "INFO:recipe_rec.recipe2vec:Completed epoch 86.\n",
      "INFO:recipe_rec.recipe2vec:Completed epoch 87.\n",
      "INFO:recipe_rec.recipe2vec:Completed epoch 88.\n",
      "INFO:recipe_rec.recipe2vec:Completed epoch 89.\n",
      "INFO:recipe_rec.recipe2vec:Completed epoch 90.\n",
      "INFO:recipe_rec.recipe2vec:Completed epoch 91.\n",
      "INFO:recipe_rec.recipe2vec:Completed epoch 92.\n",
      "INFO:recipe_rec.recipe2vec:Completed epoch 93.\n",
      "INFO:recipe_rec.recipe2vec:Completed epoch 94.\n",
      "INFO:recipe_rec.recipe2vec:Completed epoch 95.\n",
      "INFO:recipe_rec.recipe2vec:Completed epoch 96.\n",
      "INFO:recipe_rec.recipe2vec:Completed epoch 97.\n",
      "INFO:recipe_rec.recipe2vec:Completed epoch 98.\n",
      "INFO:recipe_rec.recipe2vec:Completed epoch 99.\n",
      "INFO:recipe_rec.recipe2vec:Completed epoch 100.\n",
      "INFO:recipe_rec.recipe2vec:Completed epoch 101.\n",
      "INFO:recipe_rec.recipe2vec:Completed epoch 102.\n",
      "INFO:recipe_rec.recipe2vec:Completed epoch 103.\n",
      "INFO:recipe_rec.recipe2vec:Completed epoch 104.\n",
      "INFO:recipe_rec.recipe2vec:Completed epoch 105.\n",
      "INFO:recipe_rec.recipe2vec:Completed epoch 106.\n",
      "INFO:recipe_rec.recipe2vec:Completed epoch 107.\n",
      "INFO:recipe_rec.recipe2vec:Completed epoch 108.\n",
      "INFO:recipe_rec.recipe2vec:Completed epoch 109.\n",
      "INFO:recipe_rec.recipe2vec:Completed epoch 110.\n",
      "INFO:recipe_rec.recipe2vec:Completed epoch 111.\n",
      "INFO:recipe_rec.recipe2vec:Completed epoch 112.\n",
      "INFO:recipe_rec.recipe2vec:Completed epoch 113.\n",
      "INFO:recipe_rec.recipe2vec:Completed epoch 114.\n",
      "INFO:recipe_rec.recipe2vec:Completed epoch 115.\n",
      "INFO:recipe_rec.recipe2vec:Completed epoch 116.\n",
      "INFO:recipe_rec.recipe2vec:Completed epoch 117.\n",
      "INFO:recipe_rec.recipe2vec:Completed epoch 118.\n",
      "INFO:recipe_rec.recipe2vec:Completed epoch 119.\n",
      "INFO:recipe_rec.recipe2vec:Completed epoch 120.\n",
      "INFO:recipe_rec.recipe2vec:Completed epoch 121.\n",
      "INFO:recipe_rec.recipe2vec:Completed epoch 122.\n",
      "INFO:recipe_rec.recipe2vec:Completed epoch 123.\n",
      "INFO:recipe_rec.recipe2vec:Completed epoch 124.\n",
      "INFO:recipe_rec.recipe2vec:Completed epoch 125.\n",
      "INFO:recipe_rec.recipe2vec:Completed epoch 126.\n",
      "INFO:recipe_rec.recipe2vec:Completed epoch 127.\n",
      "INFO:recipe_rec.recipe2vec:Completed epoch 128.\n",
      "INFO:recipe_rec.recipe2vec:Completed epoch 129.\n",
      "INFO:recipe_rec.recipe2vec:Completed epoch 130.\n",
      "INFO:recipe_rec.recipe2vec:Completed epoch 131.\n",
      "INFO:recipe_rec.recipe2vec:Completed epoch 132.\n",
      "INFO:recipe_rec.recipe2vec:Completed epoch 133.\n",
      "INFO:recipe_rec.recipe2vec:Completed epoch 134.\n",
      "INFO:recipe_rec.recipe2vec:Completed epoch 135.\n",
      "INFO:recipe_rec.recipe2vec:Completed epoch 136.\n",
      "INFO:recipe_rec.recipe2vec:Completed epoch 137.\n",
      "INFO:recipe_rec.recipe2vec:Completed epoch 138.\n",
      "INFO:recipe_rec.recipe2vec:Completed epoch 139.\n",
      "INFO:recipe_rec.recipe2vec:Completed epoch 140.\n",
      "INFO:recipe_rec.recipe2vec:Completed epoch 141.\n",
      "INFO:recipe_rec.recipe2vec:Completed epoch 142.\n",
      "INFO:recipe_rec.recipe2vec:Completed epoch 143.\n",
      "INFO:recipe_rec.recipe2vec:Completed epoch 144.\n",
      "INFO:recipe_rec.recipe2vec:Completed epoch 145.\n",
      "INFO:recipe_rec.recipe2vec:Completed epoch 146.\n",
      "INFO:recipe_rec.recipe2vec:Completed epoch 147.\n",
      "INFO:recipe_rec.recipe2vec:Completed epoch 148.\n",
      "INFO:recipe_rec.recipe2vec:Completed epoch 149.\n",
      "INFO:recipe_rec.recipe2vec:Completed epoch 150.\n",
      "INFO:recipe_rec.recipe2vec:Completed epoch 151.\n",
      "INFO:recipe_rec.recipe2vec:Completed epoch 152.\n",
      "INFO:recipe_rec.recipe2vec:Completed epoch 153.\n",
      "INFO:recipe_rec.recipe2vec:Completed epoch 154.\n",
      "INFO:recipe_rec.recipe2vec:Completed epoch 155.\n",
      "INFO:recipe_rec.recipe2vec:Completed epoch 156.\n",
      "INFO:recipe_rec.recipe2vec:Completed epoch 157.\n",
      "INFO:recipe_rec.recipe2vec:Completed epoch 158.\n",
      "INFO:recipe_rec.recipe2vec:Completed epoch 159.\n",
      "INFO:recipe_rec.recipe2vec:Completed epoch 160.\n",
      "INFO:recipe_rec.recipe2vec:Completed epoch 161.\n",
      "INFO:recipe_rec.recipe2vec:Completed epoch 162.\n",
      "INFO:recipe_rec.recipe2vec:Completed epoch 163.\n",
      "INFO:recipe_rec.recipe2vec:Completed epoch 164.\n",
      "INFO:recipe_rec.recipe2vec:Completed epoch 165.\n",
      "INFO:recipe_rec.recipe2vec:Completed epoch 166.\n",
      "INFO:recipe_rec.recipe2vec:Completed epoch 167.\n",
      "INFO:recipe_rec.recipe2vec:Completed epoch 168.\n",
      "INFO:recipe_rec.recipe2vec:Completed epoch 169.\n",
      "INFO:recipe_rec.recipe2vec:Completed epoch 170.\n",
      "INFO:recipe_rec.recipe2vec:Completed epoch 171.\n",
      "INFO:recipe_rec.recipe2vec:Completed epoch 172.\n",
      "INFO:recipe_rec.recipe2vec:Completed epoch 173.\n",
      "INFO:recipe_rec.recipe2vec:Completed epoch 174.\n",
      "INFO:recipe_rec.recipe2vec:Completed epoch 175.\n",
      "INFO:recipe_rec.recipe2vec:Completed epoch 176.\n",
      "INFO:recipe_rec.recipe2vec:Completed epoch 177.\n",
      "INFO:recipe_rec.recipe2vec:Completed epoch 178.\n",
      "INFO:recipe_rec.recipe2vec:Completed epoch 179.\n",
      "INFO:recipe_rec.recipe2vec:Completed epoch 180.\n",
      "INFO:recipe_rec.recipe2vec:Completed epoch 181.\n",
      "INFO:recipe_rec.recipe2vec:Completed epoch 182.\n",
      "INFO:recipe_rec.recipe2vec:Completed epoch 183.\n",
      "INFO:recipe_rec.recipe2vec:Completed epoch 184.\n",
      "INFO:recipe_rec.recipe2vec:Completed epoch 185.\n",
      "INFO:recipe_rec.recipe2vec:Completed epoch 186.\n",
      "INFO:recipe_rec.recipe2vec:Completed epoch 187.\n",
      "INFO:recipe_rec.recipe2vec:Completed epoch 188.\n",
      "INFO:recipe_rec.recipe2vec:Completed epoch 189.\n",
      "INFO:recipe_rec.recipe2vec:Completed epoch 190.\n",
      "INFO:recipe_rec.recipe2vec:Completed epoch 191.\n",
      "INFO:recipe_rec.recipe2vec:Completed epoch 192.\n",
      "INFO:recipe_rec.recipe2vec:Completed epoch 193.\n",
      "INFO:recipe_rec.recipe2vec:Completed epoch 194.\n",
      "INFO:recipe_rec.recipe2vec:Completed epoch 195.\n",
      "INFO:recipe_rec.recipe2vec:Completed epoch 196.\n",
      "INFO:recipe_rec.recipe2vec:Completed epoch 197.\n",
      "INFO:recipe_rec.recipe2vec:Completed epoch 198.\n",
      "INFO:recipe_rec.recipe2vec:Completed epoch 199.\n",
      "INFO:recipe_rec.recipe2vec:Completed epoch 200.\n",
      "INFO:recipe_rec.recipe2vec:Completed epoch 201.\n",
      "INFO:recipe_rec.recipe2vec:Completed epoch 202.\n",
      "INFO:recipe_rec.recipe2vec:Completed epoch 203.\n",
      "INFO:recipe_rec.recipe2vec:Completed epoch 204.\n",
      "INFO:recipe_rec.recipe2vec:Completed epoch 205.\n",
      "INFO:recipe_rec.recipe2vec:Completed epoch 206.\n",
      "INFO:recipe_rec.recipe2vec:Completed epoch 207.\n",
      "INFO:recipe_rec.recipe2vec:Completed epoch 208.\n",
      "INFO:recipe_rec.recipe2vec:Completed epoch 209.\n",
      "INFO:recipe_rec.recipe2vec:Completed epoch 210.\n",
      "INFO:recipe_rec.recipe2vec:Completed epoch 211.\n",
      "INFO:recipe_rec.recipe2vec:Completed epoch 212.\n",
      "INFO:recipe_rec.recipe2vec:Completed epoch 213.\n",
      "INFO:recipe_rec.recipe2vec:Completed epoch 214.\n",
      "INFO:recipe_rec.recipe2vec:Completed epoch 215.\n",
      "INFO:recipe_rec.recipe2vec:Completed epoch 216.\n",
      "INFO:recipe_rec.recipe2vec:Completed epoch 217.\n",
      "INFO:recipe_rec.recipe2vec:Completed epoch 218.\n",
      "INFO:recipe_rec.recipe2vec:Completed epoch 219.\n",
      "INFO:recipe_rec.recipe2vec:Completed epoch 220.\n",
      "INFO:recipe_rec.recipe2vec:Completed epoch 221.\n",
      "INFO:recipe_rec.recipe2vec:Completed epoch 222.\n",
      "INFO:recipe_rec.recipe2vec:Completed epoch 223.\n",
      "INFO:recipe_rec.recipe2vec:Completed epoch 224.\n",
      "INFO:recipe_rec.recipe2vec:Completed epoch 225.\n",
      "INFO:recipe_rec.recipe2vec:Completed epoch 226.\n",
      "INFO:recipe_rec.recipe2vec:Completed epoch 227.\n",
      "INFO:recipe_rec.recipe2vec:Completed epoch 228.\n",
      "INFO:recipe_rec.recipe2vec:Completed epoch 229.\n",
      "INFO:recipe_rec.recipe2vec:Completed epoch 230.\n",
      "INFO:recipe_rec.recipe2vec:Completed epoch 231.\n",
      "INFO:recipe_rec.recipe2vec:Completed epoch 232.\n",
      "INFO:recipe_rec.recipe2vec:Completed epoch 233.\n",
      "INFO:recipe_rec.recipe2vec:Completed epoch 234.\n",
      "INFO:recipe_rec.recipe2vec:Completed epoch 235.\n",
      "INFO:recipe_rec.recipe2vec:Completed epoch 236.\n",
      "INFO:recipe_rec.recipe2vec:Completed epoch 237.\n",
      "INFO:recipe_rec.recipe2vec:Completed epoch 238.\n",
      "INFO:recipe_rec.recipe2vec:Completed epoch 239.\n",
      "INFO:recipe_rec.recipe2vec:Completed epoch 240.\n",
      "INFO:recipe_rec.recipe2vec:Completed epoch 241.\n",
      "INFO:recipe_rec.recipe2vec:Completed epoch 242.\n",
      "INFO:recipe_rec.recipe2vec:Completed epoch 243.\n",
      "INFO:recipe_rec.recipe2vec:Completed epoch 244.\n",
      "INFO:recipe_rec.recipe2vec:Completed epoch 245.\n",
      "INFO:recipe_rec.recipe2vec:Completed epoch 246.\n",
      "INFO:recipe_rec.recipe2vec:Completed epoch 247.\n",
      "INFO:recipe_rec.recipe2vec:Completed epoch 248.\n",
      "INFO:recipe_rec.recipe2vec:Completed epoch 249.\n",
      "INFO:recipe_rec.recipe2vec:Completed epoch 250.\n",
      "INFO:recipe_rec.recipe2vec:Completed epoch 251.\n",
      "INFO:recipe_rec.recipe2vec:Completed epoch 252.\n",
      "INFO:recipe_rec.recipe2vec:Completed epoch 253.\n",
      "INFO:recipe_rec.recipe2vec:Completed epoch 254.\n",
      "INFO:recipe_rec.recipe2vec:Completed epoch 255.\n",
      "INFO:recipe_rec.recipe2vec:Completed epoch 256.\n",
      "INFO:recipe_rec.recipe2vec:Completed epoch 257.\n",
      "INFO:recipe_rec.recipe2vec:Completed epoch 258.\n",
      "INFO:recipe_rec.recipe2vec:Completed epoch 259.\n",
      "INFO:recipe_rec.recipe2vec:Completed epoch 260.\n",
      "INFO:recipe_rec.recipe2vec:Completed epoch 261.\n",
      "INFO:recipe_rec.recipe2vec:Completed epoch 262.\n",
      "INFO:recipe_rec.recipe2vec:Completed epoch 263.\n",
      "INFO:recipe_rec.recipe2vec:Completed epoch 264.\n",
      "INFO:recipe_rec.recipe2vec:Completed epoch 265.\n",
      "INFO:recipe_rec.recipe2vec:Completed epoch 266.\n",
      "INFO:recipe_rec.recipe2vec:Completed epoch 267.\n",
      "INFO:recipe_rec.recipe2vec:Completed epoch 268.\n",
      "INFO:recipe_rec.recipe2vec:Completed epoch 269.\n",
      "INFO:recipe_rec.recipe2vec:Completed epoch 270.\n",
      "INFO:recipe_rec.recipe2vec:Completed epoch 271.\n",
      "INFO:recipe_rec.recipe2vec:Completed epoch 272.\n",
      "INFO:recipe_rec.recipe2vec:Completed epoch 273.\n",
      "INFO:recipe_rec.recipe2vec:Completed epoch 274.\n",
      "INFO:recipe_rec.recipe2vec:Completed epoch 275.\n",
      "INFO:recipe_rec.recipe2vec:Completed epoch 276.\n",
      "INFO:recipe_rec.recipe2vec:Completed epoch 277.\n",
      "INFO:recipe_rec.recipe2vec:Completed epoch 278.\n",
      "INFO:recipe_rec.recipe2vec:Completed epoch 279.\n",
      "INFO:recipe_rec.recipe2vec:Completed epoch 280.\n",
      "INFO:recipe_rec.recipe2vec:Completed epoch 281.\n",
      "INFO:recipe_rec.recipe2vec:Completed epoch 282.\n",
      "INFO:recipe_rec.recipe2vec:Completed epoch 283.\n",
      "INFO:recipe_rec.recipe2vec:Completed epoch 284.\n",
      "INFO:recipe_rec.recipe2vec:Completed epoch 285.\n",
      "INFO:recipe_rec.recipe2vec:Completed epoch 286.\n",
      "INFO:recipe_rec.recipe2vec:Completed epoch 287.\n",
      "INFO:recipe_rec.recipe2vec:Completed epoch 288.\n",
      "INFO:recipe_rec.recipe2vec:Completed epoch 289.\n",
      "INFO:recipe_rec.recipe2vec:Completed epoch 290.\n",
      "INFO:recipe_rec.recipe2vec:Completed epoch 291.\n",
      "INFO:recipe_rec.recipe2vec:Completed epoch 292.\n",
      "INFO:recipe_rec.recipe2vec:Completed epoch 293.\n",
      "INFO:recipe_rec.recipe2vec:Completed epoch 294.\n",
      "INFO:recipe_rec.recipe2vec:Completed epoch 295.\n",
      "INFO:recipe_rec.recipe2vec:Completed epoch 296.\n",
      "INFO:recipe_rec.recipe2vec:Completed epoch 297.\n",
      "INFO:recipe_rec.recipe2vec:Completed epoch 298.\n",
      "INFO:recipe_rec.recipe2vec:Completed epoch 299.\n",
      "INFO:recipe_rec.recipe2vec:Completed epoch 300.\n",
      "WARNING:recipe_rec.recipe2vec:'PosixPath' object has no attribute 'endswith'\n",
      "INFO:recipe_rec.recipe2vec:Trained Word2Vec model, stored at None\n",
      "INFO:recipe_rec.recipe2vec:Building an index for the recipes using trained model.\n",
      "INFO:recipe_rec.recipe2vec:Built Annoy index and saved to recipe2vec_11db9003b56942ed873361e414407da2.ann\n"
     ]
    },
    {
     "name": "stdout",
     "output_type": "stream",
     "text": [
      "[312334.125, 324981.75, 330824.6875, 334974.71875, 337994.8125, 340381.1875, 342044.375, 343437.84375, 344664.28125, 345788.15625, 346481.875, 347191.09375, 347884.0625, 348433.78125, 349004.40625, 349566.40625, 350025.96875, 350431.3125, 350845.875, 351191.9375, 351469.625, 351714.15625, 351935.84375, 352150.15625, 352367.375, 352564.1875, 352812.78125, 353039.46875, 353328.375, 353695.15625, 353869.15625, 354053.8125, 354267.40625, 354450.78125, 354642.40625, 354824.0, 354982.0625, 355155.53125, 355307.4375, 355420.5625, 355506.34375, 355634.34375, 355724.40625, 355819.21875, 355965.53125, 356064.09375, 356184.15625, 356274.46875, 356350.46875, 356447.21875, 356516.1875, 356558.6875, 356617.1875, 356701.0, 356754.9375, 356814.25, 356869.84375, 356931.6875, 357010.75, 357048.59375, 357110.28125, 357147.90625, 357198.125, 357250.15625, 357288.5625, 357351.9375, 357403.6875, 357449.3125, 357502.75, 357594.09375, 357641.15625, 357672.03125, 357718.71875, 357746.28125, 357784.34375, 357798.0, 357819.375, 357847.8125, 357886.875, 357916.59375, 357932.90625, 357970.5625, 358002.40625, 358058.25, 358111.625, 358150.46875, 358192.78125, 358246.34375, 358282.25, 358292.96875, 358354.96875, 358380.90625, 358427.21875, 358475.28125, 358521.6875, 358560.90625, 358580.59375, 358599.84375, 358627.125, 358662.25, 358692.875, 358703.0, 358716.4375, 358731.6875, 358745.84375, 358749.03125, 358763.5, 358780.53125, 358814.125, 358816.3125, 358826.875, 358844.0, 358864.28125, 358905.0, 358924.25, 358952.34375, 358971.4375, 358984.28125, 359003.71875, 359027.28125, 359036.96875, 359067.375, 359103.25, 359133.625, 359149.0, 359158.8125, 359171.28125, 359184.6875, 359201.0, 359208.28125, 359221.375, 359230.3125, 359241.0625, 359275.09375, 359279.125, 359286.09375, 359300.75, 359335.28125, 359338.25, 359366.96875, 359381.84375, 359400.0625, 359402.875, 359414.53125, 359451.8125, 359461.25, 359467.71875, 359480.40625, 359481.28125, 359488.53125, 359507.53125, 359524.6875, 359549.125, 359560.84375, 359572.28125, 359586.03125, 359588.0625, 359596.46875, 359598.875, 359612.59375, 359625.3125, 359636.875, 359639.75, 359652.71875, 359664.5625, 359670.84375, 359678.5625, 359684.15625, 359702.25, 359704.46875, 359705.59375, 359712.15625, 359725.28125, 359729.0, 359740.40625, 359743.71875, 359750.03125, 359750.46875, 359754.09375, 359760.875, 359768.15625, 359768.3125, 359770.03125, 359775.59375, 359791.34375, 359809.4375, 359810.46875, 359814.0, 359816.71875, 359818.03125, 359824.71875, 359825.0, 359827.125, 359836.375, 359842.71875, 359855.25, 359856.625, 359857.125, 359867.25, 359876.59375, 359878.625, 359879.40625, 359888.75, 359899.53125, 359912.875, 359924.1875, 359938.78125, 359939.59375, 359946.375, 359947.21875, 359948.34375, 359962.40625, 359962.8125, 359986.21875, 360001.6875, 360007.0625, 360012.0, 360020.09375, 360023.375, 360027.6875, 360028.75, 360033.15625, 360035.96875, 360038.46875, 360038.59375, 360040.40625, 360040.8125, 360044.21875, 360050.21875, 360055.875, 360060.875, 360066.59375, 360069.4375, 360074.375, 360080.0625, 360082.125, 360084.46875, 360085.34375, 360089.8125, 360090.84375, 360095.71875, 360098.90625, 360108.125, 360108.46875, 360115.03125, 360116.1875, 360120.09375, 360123.65625, 360130.65625, 360132.21875, 360137.09375, 360137.28125, 360142.3125, 360142.84375, 360151.5, 360158.40625, 360158.65625, 360159.0625, 360159.34375, 360162.21875, 360166.34375, 360166.71875, 360166.96875, 360167.34375, 360172.625, 360172.75, 360177.65625, 360181.03125, 360181.5625, 360188.1875, 360192.75, 360193.15625, 360193.25, 360193.53125, 360194.5625, 360195.1875, 360201.59375, 360210.375, 360218.53125, 360219.09375, 360221.65625, 360232.28125, 360232.59375, 360236.09375, 360236.75, 360237.0, 360237.125, 360237.46875, 360244.21875, 360244.96875, 360245.34375, 360247.125, 360257.53125, 360257.6875, 360258.0625, 360258.28125, 360258.5, 360258.625, 360259.03125, 360264.03125]\n"
     ]
    }
   ],
   "source": [
    "# # systems = {}\n",
    "\n",
    "# alphas = [0.025, 0.0025, 0.25]\n",
    "# epochs = [300]\n",
    "\n",
    "# # losses = {}\n",
    "# # models = []\n",
    "# for alpha, num_epochs in list(itertools.product(alphas, epochs)):\n",
    "#     model = Recipe2Vec(\n",
    "#         # model_path=\"./recipe_rec/data/recipe2vec_42d574c155524a28a8ae6ee691d96e85.model\",\n",
    "#         alpha=alpha,\n",
    "#         num_epochs=num_epochs,\n",
    "#         # index_path=\"./recipe_rec/data/recipe2vec_7153b2f49949474495fd9ffe8b340baf.ann\",\n",
    "#         verbose=True,\n",
    "#     )\n",
    "\n",
    "#     training_losses = model.training_losses\n",
    "\n",
    "#     # losses[(alpha, num_epochs)] = training_losses\n",
    "\n",
    "#     print(training_losses)\n",
    "\n",
    "#     models.append(model)"
   ]
  },
  {
   "cell_type": "code",
   "execution_count": 5,
   "metadata": {},
   "outputs": [
    {
     "name": "stdout",
     "output_type": "stream",
     "text": [
      "(0.025, 300)\n",
      "[7702177.0, 14090083.0, 19745694.0, 24939588.0, 30220906.0, 34589404.0, 37520908.0, 40456656.0, 43333068.0, 46249572.0, 49160392.0, 52096232.0, 55001256.0, 57881800.0, 60784484.0, 63680464.0, 66560140.0, 67257112.0, 67443120.0, 67625232.0, 67806296.0, 67989544.0, 68174384.0, 68361968.0, 68549896.0, 68737688.0, 68921016.0, 69105000.0, 69291016.0, 69478576.0, 69665104.0, 69854992.0, 70041368.0, 70226928.0, 70414968.0, 70600608.0, 70790216.0, 70975648.0, 71163392.0, 71352952.0, 71540768.0, 71731072.0, 71919112.0, 72099040.0, 72284864.0, 72469272.0, 72654104.0, 72844328.0, 73026728.0, 73214744.0, 73405032.0, 73589960.0, 73775544.0, 73959016.0, 74142344.0, 74326664.0, 74511728.0, 74696024.0, 74879024.0, 75065144.0, 75251568.0, 75439440.0, 75619664.0, 75806704.0, 75990840.0, 76171072.0, 76355560.0, 76541272.0, 76728800.0, 76913040.0, 77096712.0, 77280648.0, 77469392.0, 77656248.0, 77838336.0, 78022112.0, 78210440.0, 78397000.0, 78581208.0, 78764904.0, 78949744.0, 79132976.0, 79317112.0, 79500576.0, 79682696.0, 79864640.0, 80050384.0, 80235336.0, 80423960.0, 80608000.0, 80792232.0, 80970400.0, 81155056.0, 81340384.0, 81520280.0, 81704152.0, 81888296.0, 82069888.0, 82254320.0, 82433272.0, 82616384.0, 82802360.0, 82982800.0, 83165344.0, 83349264.0, 83532112.0, 83714456.0, 83894656.0, 84077960.0, 84257680.0, 84436848.0, 84616696.0, 84798192.0, 84984024.0, 85162592.0, 85344624.0, 85525784.0, 85705632.0, 85887528.0, 86069216.0, 86252512.0, 86432848.0, 86616264.0, 86795600.0, 86975104.0, 87158000.0, 87337992.0, 87520032.0, 87701280.0, 87882032.0, 88063560.0, 88244808.0, 88422840.0, 88604656.0, 88785752.0, 88965328.0, 89149096.0, 89329120.0, 89510544.0, 89691720.0, 89872528.0, 90051632.0, 90231472.0, 90414520.0, 90596688.0, 90771848.0, 90952304.0, 91132280.0, 91313272.0, 91496648.0, 91678248.0, 91855584.0, 92032536.0, 92213080.0, 92390944.0, 92570168.0, 92749456.0, 92930472.0, 93107280.0, 93287896.0, 93467272.0, 93646960.0, 93828992.0, 94005288.0, 94183184.0, 94362928.0, 94541064.0, 94721080.0, 94900568.0, 95077584.0, 95252584.0, 95428536.0, 95604320.0, 95783592.0, 95958632.0, 96137784.0, 96318608.0, 96500048.0, 96683552.0, 96866888.0, 97044480.0, 97220072.0, 97399840.0, 97577912.0, 97759728.0, 97936152.0, 98113904.0, 98293784.0, 98474696.0, 98656968.0, 98838016.0, 99018544.0, 99192280.0, 99372312.0, 99553608.0, 99729592.0, 99914000.0, 100093456.0, 100267288.0, 100446008.0, 100620792.0, 100800040.0, 100980264.0, 101155464.0, 101332072.0, 101511120.0, 101688168.0, 101863112.0, 102044224.0, 102219768.0, 102396280.0, 102574408.0, 102752704.0, 102929720.0, 103104624.0, 103284856.0, 103465832.0, 103644320.0, 103820488.0, 103995800.0, 104173112.0, 104351608.0, 104530224.0, 104709232.0, 104883976.0, 105066016.0, 105242536.0, 105419592.0, 105600840.0, 105778416.0, 105959576.0, 106136296.0, 106315040.0, 106491616.0, 106672248.0, 106848560.0, 107028632.0, 107206696.0, 107387768.0, 107563184.0, 107738384.0, 107919184.0, 108099688.0, 108279704.0, 108455720.0, 108633032.0, 108813040.0, 108995896.0, 109171352.0, 109346768.0, 109525096.0, 109706040.0, 109884952.0, 110063096.0, 110241416.0, 110419008.0, 110593184.0, 110770936.0, 110953560.0, 111132776.0, 111310464.0, 111490176.0, 111668864.0, 111845144.0, 112028952.0, 112209520.0, 112385224.0, 112561904.0, 112742440.0, 112924520.0, 113103368.0, 113282688.0, 113456480.0, 113635136.0, 113814032.0, 113992760.0, 114172984.0, 114351936.0, 114525160.0, 114699624.0, 114879552.0, 115058488.0, 115235024.0, 115414520.0, 115595152.0, 115774000.0, 115952784.0, 116131816.0, 116310704.0, 116489120.0, 116667392.0, 116843464.0, 117023064.0, 117198392.0, 117381080.0, 117554192.0, 117735488.0, 117913184.0, 118091752.0, 118271464.0]\n",
      "(0.0025, 300)\n",
      "[9081253.0, 15293239.0, 20828446.0, 26091766.0, 31285640.0, 35045644.0, 37722592.0, 40396524.0, 43083884.0, 45750752.0, 48408272.0, 51078460.0, 53721984.0, 56344272.0, 58966360.0, 61607008.0, 64241452.0, 66876004.0, 67256624.0, 67417928.0, 67581216.0, 67742944.0, 67907808.0, 68074968.0, 68240704.0, 68408200.0, 68577888.0, 68746304.0, 68914120.0, 69083536.0, 69253272.0, 69424176.0, 69596144.0, 69764520.0, 69932760.0, 70104040.0, 70275744.0, 70446592.0, 70618512.0, 70790936.0, 70959928.0, 71134408.0, 71307528.0, 71479408.0, 71653272.0, 71830808.0, 72006432.0, 72178224.0, 72350384.0, 72523000.0, 72693952.0, 72868088.0, 73040376.0, 73215536.0, 73392400.0, 73566272.0, 73741736.0, 73915560.0, 74089896.0, 74267840.0, 74441048.0, 74618560.0, 74795416.0, 74970400.0, 75145456.0, 75322008.0, 75496792.0, 75670864.0, 75846312.0, 76019184.0, 76197288.0, 76373776.0, 76553616.0, 76726888.0, 76905088.0, 77083056.0, 77260104.0, 77437040.0, 77613760.0, 77789336.0, 77967280.0, 78144184.0, 78321544.0, 78501096.0, 78679360.0, 78856640.0, 79032160.0, 79210888.0, 79385584.0, 79566704.0, 79745528.0, 79923264.0, 80101256.0, 80277432.0, 80455256.0, 80632848.0, 80806552.0, 80982488.0, 81158952.0, 81337896.0, 81516376.0, 81694624.0, 81875416.0, 82054472.0, 82235280.0, 82415440.0, 82592544.0, 82770248.0, 82948536.0, 83128192.0, 83305544.0, 83485008.0, 83665472.0, 83850000.0, 84027072.0, 84208944.0, 84389648.0, 84569648.0, 84751736.0, 84932672.0, 85111920.0, 85293312.0, 85474160.0, 85652864.0, 85834096.0, 86011616.0, 86193920.0, 86376008.0, 86557520.0, 86736496.0, 86916744.0, 87096632.0, 87278344.0, 87459776.0, 87638504.0, 87819544.0, 87999512.0, 88180288.0, 88359000.0, 88539168.0, 88720176.0, 88904048.0, 89084272.0, 89269912.0, 89452968.0, 89638480.0, 89820088.0, 89996176.0, 90176640.0, 90358432.0, 90542568.0, 90724392.0, 90906360.0, 91089320.0, 91272112.0, 91453832.0, 91635120.0, 91814200.0, 91996776.0, 92182984.0, 92364888.0, 92545464.0, 92728416.0, 92910296.0, 93090904.0, 93268896.0, 93449464.0, 93630960.0, 93809552.0, 93994680.0, 94175584.0, 94352752.0, 94531848.0, 94710944.0, 94893512.0, 95075192.0, 95255296.0, 95438800.0, 95618344.0, 95800488.0, 95979344.0, 96161272.0, 96339648.0, 96521616.0, 96700896.0, 96880488.0, 97061456.0, 97246984.0, 97430384.0, 97613216.0, 97793848.0, 97976800.0, 98158808.0, 98342512.0, 98528184.0, 98707312.0, 98890160.0, 99076136.0, 99261432.0, 99446064.0, 99625936.0, 99805464.0, 99987128.0, 100174048.0, 100356856.0, 100535016.0, 100719368.0, 100900160.0, 101083384.0, 101269384.0, 101451328.0, 101635240.0, 101820560.0, 102004992.0, 102189296.0, 102372184.0, 102553152.0, 102734976.0, 102914368.0, 103095672.0, 103278368.0, 103461976.0, 103643296.0, 103827120.0, 104009976.0, 104194712.0, 104378320.0, 104563656.0, 104747464.0, 104931848.0, 105117160.0, 105303832.0, 105484864.0, 105667736.0, 105847296.0, 106029760.0, 106213064.0, 106393424.0, 106576152.0, 106757808.0, 106940872.0, 107124768.0, 107305592.0, 107491240.0, 107676288.0, 107859272.0, 108044072.0, 108226736.0, 108406752.0, 108592256.0, 108774792.0, 108961672.0, 109145760.0, 109326920.0, 109509544.0, 109694088.0, 109879384.0, 110061664.0, 110246152.0, 110427640.0, 110610992.0, 110792776.0, 110974848.0, 111158960.0, 111342416.0, 111524336.0, 111708352.0, 111891272.0, 112073120.0, 112255568.0, 112440504.0, 112623816.0, 112806344.0, 112985864.0, 113168456.0, 113349120.0, 113536792.0, 113718264.0, 113903800.0, 114083224.0, 114269440.0, 114450512.0, 114633648.0, 114815656.0, 114998936.0, 115186688.0, 115376056.0, 115556056.0, 115738592.0, 115922104.0, 116107072.0, 116290240.0, 116477408.0, 116661168.0, 116843872.0, 117021568.0, 117203616.0, 117386120.0, 117570248.0, 117753488.0]\n"
     ]
    }
   ],
   "source": [
    "# for loss in losses:\n",
    "#     print(loss)\n",
    "#     print(losses[loss])"
   ]
  },
  {
   "cell_type": "code",
   "execution_count": 6,
   "metadata": {},
   "outputs": [],
   "source": [
    "# with open(\"training_losses.pkl\", \"wb\") as f:\n",
    "\n",
    "#     pickle.dump(losses, f)"
   ]
  },
  {
   "cell_type": "code",
   "execution_count": 7,
   "metadata": {},
   "outputs": [],
   "source": [
    "# import pickle\n",
    "\n",
    "# with open(\"training_losses.pkl\", \"rb\") as f:\n",
    "\n",
    "#     losses2 = pickle.load(f)"
   ]
  },
  {
   "cell_type": "code",
   "execution_count": 49,
   "metadata": {},
   "outputs": [],
   "source": [
    "import pandas as pd\n",
    "import seaborn as sns\n",
    "import matplotlib.pyplot as plt\n",
    "\n",
    "cols = [\"0.025\", \"0.0025\", \"0.25\"]\n",
    "losses_df = pd.read_csv(\"losses_backup.csv\", header=None).transpose()\n",
    "losses_df = losses_df.rename({i: v for i, v in enumerate(cols)}, axis=1)"
   ]
  },
  {
   "cell_type": "code",
   "execution_count": 52,
   "metadata": {},
   "outputs": [],
   "source": [
    "rolling_val = 0\n",
    "\n",
    "\n",
    "def updater(val):\n",
    "\n",
    "    global rolling_val\n",
    "    real = val - rolling_val\n",
    "\n",
    "    rolling_val += real\n",
    "    return real\n",
    "\n",
    "\n",
    "for col in [\"0.025\", \"0.25\", \"0.0025\"]:\n",
    "    losses_df[f\"{col}_true\"] = losses_df[col].apply(updater)\n",
    "\n",
    "    rolling_val = 0"
   ]
  },
  {
   "cell_type": "code",
   "execution_count": 53,
   "metadata": {},
   "outputs": [
    {
     "data": {
      "text/html": [
       "<div>\n",
       "<style scoped>\n",
       "    .dataframe tbody tr th:only-of-type {\n",
       "        vertical-align: middle;\n",
       "    }\n",
       "\n",
       "    .dataframe tbody tr th {\n",
       "        vertical-align: top;\n",
       "    }\n",
       "\n",
       "    .dataframe thead th {\n",
       "        text-align: right;\n",
       "    }\n",
       "</style>\n",
       "<table border=\"1\" class=\"dataframe\">\n",
       "  <thead>\n",
       "    <tr style=\"text-align: right;\">\n",
       "      <th></th>\n",
       "      <th>0.025</th>\n",
       "      <th>0.0025</th>\n",
       "      <th>0.25</th>\n",
       "      <th>0.025_true</th>\n",
       "      <th>0.25_true</th>\n",
       "      <th>0.0025_true</th>\n",
       "    </tr>\n",
       "  </thead>\n",
       "  <tbody>\n",
       "    <tr>\n",
       "      <th>0</th>\n",
       "      <td>7694067.5</td>\n",
       "      <td>9081253.0</td>\n",
       "      <td>312334.12500</td>\n",
       "      <td>7694067.5</td>\n",
       "      <td>312334.12500</td>\n",
       "      <td>9081253.0</td>\n",
       "    </tr>\n",
       "    <tr>\n",
       "      <th>1</th>\n",
       "      <td>14012759.0</td>\n",
       "      <td>15293239.0</td>\n",
       "      <td>324981.75000</td>\n",
       "      <td>6318691.5</td>\n",
       "      <td>12647.62500</td>\n",
       "      <td>6211986.0</td>\n",
       "    </tr>\n",
       "    <tr>\n",
       "      <th>2</th>\n",
       "      <td>19612540.0</td>\n",
       "      <td>20828446.0</td>\n",
       "      <td>330824.68750</td>\n",
       "      <td>5599781.0</td>\n",
       "      <td>5842.93750</td>\n",
       "      <td>5535207.0</td>\n",
       "    </tr>\n",
       "    <tr>\n",
       "      <th>3</th>\n",
       "      <td>24818690.0</td>\n",
       "      <td>26091766.0</td>\n",
       "      <td>334974.71875</td>\n",
       "      <td>5206150.0</td>\n",
       "      <td>4150.03125</td>\n",
       "      <td>5263320.0</td>\n",
       "    </tr>\n",
       "    <tr>\n",
       "      <th>4</th>\n",
       "      <td>29957318.0</td>\n",
       "      <td>31285640.0</td>\n",
       "      <td>337994.81250</td>\n",
       "      <td>5138628.0</td>\n",
       "      <td>3020.09375</td>\n",
       "      <td>5193874.0</td>\n",
       "    </tr>\n",
       "    <tr>\n",
       "      <th>...</th>\n",
       "      <td>...</td>\n",
       "      <td>...</td>\n",
       "      <td>...</td>\n",
       "      <td>...</td>\n",
       "      <td>...</td>\n",
       "      <td>...</td>\n",
       "    </tr>\n",
       "    <tr>\n",
       "      <th>295</th>\n",
       "      <td>117522944.0</td>\n",
       "      <td>117021568.0</td>\n",
       "      <td>360258.28125</td>\n",
       "      <td>175296.0</td>\n",
       "      <td>0.21875</td>\n",
       "      <td>177696.0</td>\n",
       "    </tr>\n",
       "    <tr>\n",
       "      <th>296</th>\n",
       "      <td>117696912.0</td>\n",
       "      <td>117203616.0</td>\n",
       "      <td>360258.50000</td>\n",
       "      <td>173968.0</td>\n",
       "      <td>0.21875</td>\n",
       "      <td>182048.0</td>\n",
       "    </tr>\n",
       "    <tr>\n",
       "      <th>297</th>\n",
       "      <td>117874256.0</td>\n",
       "      <td>117386120.0</td>\n",
       "      <td>360258.62500</td>\n",
       "      <td>177344.0</td>\n",
       "      <td>0.12500</td>\n",
       "      <td>182504.0</td>\n",
       "    </tr>\n",
       "    <tr>\n",
       "      <th>298</th>\n",
       "      <td>118051112.0</td>\n",
       "      <td>117570248.0</td>\n",
       "      <td>360259.03125</td>\n",
       "      <td>176856.0</td>\n",
       "      <td>0.40625</td>\n",
       "      <td>184128.0</td>\n",
       "    </tr>\n",
       "    <tr>\n",
       "      <th>299</th>\n",
       "      <td>118229160.0</td>\n",
       "      <td>117753488.0</td>\n",
       "      <td>360264.03125</td>\n",
       "      <td>178048.0</td>\n",
       "      <td>5.00000</td>\n",
       "      <td>183240.0</td>\n",
       "    </tr>\n",
       "  </tbody>\n",
       "</table>\n",
       "<p>300 rows × 6 columns</p>\n",
       "</div>"
      ],
      "text/plain": [
       "           0.025       0.0025          0.25  0.025_true     0.25_true  \\\n",
       "0      7694067.5    9081253.0  312334.12500   7694067.5  312334.12500   \n",
       "1     14012759.0   15293239.0  324981.75000   6318691.5   12647.62500   \n",
       "2     19612540.0   20828446.0  330824.68750   5599781.0    5842.93750   \n",
       "3     24818690.0   26091766.0  334974.71875   5206150.0    4150.03125   \n",
       "4     29957318.0   31285640.0  337994.81250   5138628.0    3020.09375   \n",
       "..           ...          ...           ...         ...           ...   \n",
       "295  117522944.0  117021568.0  360258.28125    175296.0       0.21875   \n",
       "296  117696912.0  117203616.0  360258.50000    173968.0       0.21875   \n",
       "297  117874256.0  117386120.0  360258.62500    177344.0       0.12500   \n",
       "298  118051112.0  117570248.0  360259.03125    176856.0       0.40625   \n",
       "299  118229160.0  117753488.0  360264.03125    178048.0       5.00000   \n",
       "\n",
       "     0.0025_true  \n",
       "0      9081253.0  \n",
       "1      6211986.0  \n",
       "2      5535207.0  \n",
       "3      5263320.0  \n",
       "4      5193874.0  \n",
       "..           ...  \n",
       "295     177696.0  \n",
       "296     182048.0  \n",
       "297     182504.0  \n",
       "298     184128.0  \n",
       "299     183240.0  \n",
       "\n",
       "[300 rows x 6 columns]"
      ]
     },
     "execution_count": 53,
     "metadata": {},
     "output_type": "execute_result"
    }
   ],
   "source": [
    "losses_df"
   ]
  },
  {
   "cell_type": "code",
   "execution_count": 57,
   "metadata": {},
   "outputs": [
    {
     "data": {
      "image/png": "[encoded data removed]",
      "text/plain": [
       "<Figure size 640x480 with 1 Axes>"
      ]
     },
     "metadata": {},
     "output_type": "display_data"
    }
   ],
   "source": [
    "for col in losses_df[[f\"{name}_true\" for name in cols]]:\n",
    "\n",
    "    sns.lineplot(x=[i for i in range(1, 301)], y=losses_df[col])\n",
    "\n",
    "plt.show()"
   ]
  },
  {
   "attachments": {},
   "cell_type": "markdown",
   "metadata": {},
   "source": [
    "# Number of Ingredients Per Recipe"
   ]
  },
  {
   "cell_type": "code",
   "execution_count": 2,
   "metadata": {},
   "outputs": [],
   "source": [
    "recipes[\"IngredientLen\"] = recipes[\"RecipeIngredientParts\"].str.len()"
   ]
  },
  {
   "cell_type": "code",
   "execution_count": 3,
   "metadata": {},
   "outputs": [
    {
     "data": {
      "text/plain": [
       "4721"
      ]
     },
     "execution_count": 3,
     "metadata": {},
     "output_type": "execute_result"
    }
   ],
   "source": [
    "len(recipes[recipes[\"IngredientLen\"] > 19])"
   ]
  },
  {
   "cell_type": "code",
   "execution_count": 4,
   "metadata": {},
   "outputs": [
    {
     "data": {
      "image/png": "[encoded data removed]",
      "text/plain": [
       "<Figure size 1500x400 with 1 Axes>"
      ]
     },
     "metadata": {},
     "output_type": "display_data"
    }
   ],
   "source": [
    "import matplotlib.pyplot as plt\n",
    "import seaborn as sns\n",
    "\n",
    "plt.figure(figsize=(15, 4))\n",
    "ax = sns.boxplot(recipes[\"IngredientLen\"], fliersize=1.5, orient=\"h\")\n",
    "\n",
    "ax.set(\n",
    "    xlabel=\"Number of Ingredients\",\n",
    "    title=\"Distribution of Number of Ingredients per Recipe\",\n",
    ")\n",
    "\n",
    "plt.show()"
   ]
  },
  {
   "attachments": {},
   "cell_type": "markdown",
   "metadata": {},
   "source": [
    "Statistics:"
   ]
  },
  {
   "cell_type": "code",
   "execution_count": 5,
   "metadata": {},
   "outputs": [
    {
     "data": {
      "text/plain": [
       "count    511626.000000\n",
       "mean          8.054245\n",
       "std           3.847504\n",
       "min           2.000000\n",
       "25%           5.000000\n",
       "50%           8.000000\n",
       "75%          10.000000\n",
       "max          44.000000\n",
       "Name: IngredientLen, dtype: float64"
      ]
     },
     "execution_count": 5,
     "metadata": {},
     "output_type": "execute_result"
    }
   ],
   "source": [
    "recipes[\"IngredientLen\"].describe()"
   ]
  },
  {
   "cell_type": "code",
   "execution_count": 6,
   "metadata": {},
   "outputs": [
    {
     "data": {
      "text/plain": [
       "8.0"
      ]
     },
     "execution_count": 6,
     "metadata": {},
     "output_type": "execute_result"
    }
   ],
   "source": [
    "recipes[\"IngredientLen\"].median()"
   ]
  },
  {
   "attachments": {},
   "cell_type": "markdown",
   "metadata": {},
   "source": [
    "Number of training words:"
   ]
  },
  {
   "cell_type": "code",
   "execution_count": 7,
   "metadata": {},
   "outputs": [
    {
     "data": {
      "text/plain": [
       "4120761"
      ]
     },
     "execution_count": 7,
     "metadata": {},
     "output_type": "execute_result"
    }
   ],
   "source": [
    "recipes[\"IngredientLen\"].sum()"
   ]
  },
  {
   "attachments": {},
   "cell_type": "markdown",
   "metadata": {},
   "source": [
    "# Ingredient Count Distribution"
   ]
  },
  {
   "cell_type": "code",
   "execution_count": 8,
   "metadata": {},
   "outputs": [],
   "source": [
    "ingredient_counts = {}\n",
    "\n",
    "for recipe in recipes[\"RecipeIngredientParts\"]:\n",
    "\n",
    "    for ingredient in recipe:\n",
    "\n",
    "        if ingredient in ingredient_counts:\n",
    "\n",
    "            ingredient_counts[ingredient] += 1\n",
    "\n",
    "        else:\n",
    "\n",
    "            ingredient_counts[ingredient] = 1"
   ]
  },
  {
   "cell_type": "code",
   "execution_count": 74,
   "metadata": {},
   "outputs": [
    {
     "data": {
      "text/plain": [
       "7358"
      ]
     },
     "execution_count": 74,
     "metadata": {},
     "output_type": "execute_result"
    }
   ],
   "source": [
    "len(ingredient_counts)"
   ]
  },
  {
   "cell_type": "code",
   "execution_count": 56,
   "metadata": {},
   "outputs": [],
   "source": [
    "import numpy as np\n",
    "import pandas as pd"
   ]
  },
  {
   "cell_type": "code",
   "execution_count": 64,
   "metadata": {},
   "outputs": [
    {
     "data": {
      "image/png": "[encoded data removed]",
      "text/plain": [
       "<Figure size 2500x500 with 1 Axes>"
      ]
     },
     "metadata": {},
     "output_type": "display_data"
    },
    {
     "data": {
      "image/png": "[encoded data removed]",
      "text/plain": [
       "<Figure size 640x480 with 1 Axes>"
      ]
     },
     "metadata": {},
     "output_type": "display_data"
    },
    {
     "data": {
      "text/plain": [
       "count      7358.000000\n",
       "mean        560.038190\n",
       "std        4452.103373\n",
       "min           1.000000\n",
       "25%           2.000000\n",
       "50%          15.000000\n",
       "75%         112.000000\n",
       "max      199717.000000\n",
       "dtype: float64"
      ]
     },
     "metadata": {},
     "output_type": "display_data"
    }
   ],
   "source": [
    "ingredient_labels = ingredient_counts.keys()\n",
    "ingredient_counts_y = np.array(list(ingredient_counts.values()))\n",
    "\n",
    "# ingredient_counts_y = ingredient_counts_y[ingredient_counts_y < np.quantile(ingredient_counts_y, 1.0)]\n",
    "\n",
    "import seaborn as sns\n",
    "import matplotlib.pyplot as plt\n",
    "\n",
    "plt.figure(figsize=(25, 5))\n",
    "\n",
    "sns.histplot(\n",
    "    ingredient_counts_y[ingredient_counts_y > np.quantile(ingredient_counts_y, 0.2)],\n",
    "    thresh=5,\n",
    ")\n",
    "plt.show()\n",
    "sns.boxplot(ingredient_counts_y, orient=\"h\")\n",
    "plt.show()\n",
    "\n",
    "display(pd.Series(ingredient_counts_y).describe())"
   ]
  },
  {
   "attachments": {},
   "cell_type": "markdown",
   "metadata": {},
   "source": [
    "# Vector Size"
   ]
  },
  {
   "cell_type": "code",
   "execution_count": 20,
   "metadata": {},
   "outputs": [],
   "source": [
    "import numpy as np"
   ]
  },
  {
   "attachments": {},
   "cell_type": "markdown",
   "metadata": {},
   "source": [
    "Create co-ocurrence matrix"
   ]
  },
  {
   "cell_type": "code",
   "execution_count": 67,
   "metadata": {},
   "outputs": [],
   "source": [
    "ingredients = []\n",
    "ingredient_indexes = {}\n",
    "\n",
    "recipe_ingredients = recipes[\"RecipeIngredientParts\"]\n",
    "\n",
    "# get matrix size \n",
    "for recipe in recipe_ingredients:\n",
    "    \n",
    "    for ingredient in recipe:\n",
    "        if ingredient not in ingredient_indexes.keys() and :\n",
    "            \n",
    "            ingredient_indexes[ingredient] = len(ingredients)\n",
    "            ingredients.append(ingredient)"
   ]
  },
  {
   "cell_type": "code",
   "execution_count": 68,
   "metadata": {},
   "outputs": [
    {
     "data": {
      "text/plain": [
       "3631"
      ]
     },
     "execution_count": 68,
     "metadata": {},
     "output_type": "execute_result"
    }
   ],
   "source": [
    "len(ingredients)"
   ]
  },
  {
   "cell_type": "code",
   "execution_count": 72,
   "metadata": {},
   "outputs": [],
   "source": [
    "matrix = np.zeros((len(ingredients), len(ingredients)))\n",
    "\n",
    "for recipe in recipe_ingredients:\n",
    "\n",
    "    for ingredient in recipe:\n",
    "\n",
    "        ingredient_index = ingredient_indexes[ingredient]\n",
    "\n",
    "        for context_ingredient in recipe:\n",
    "\n",
    "            context_index = ingredient_indexes[context_ingredient]\n",
    "\n",
    "            matrix[ingredient_index][context_index] += 1\n",
    "            matrix[context_index][ingredient_index] += 1"
   ]
  },
  {
   "attachments": {},
   "cell_type": "markdown",
   "metadata": {},
   "source": [
    "Create word-word cosine similarity matrix using co-ocurrence matrix"
   ]
  },
  {
   "cell_type": "code",
   "execution_count": 73,
   "metadata": {},
   "outputs": [
    {
     "name": "stderr",
     "output_type": "stream",
     "text": [
      "100%|██████████| 3631/3631 [10:38<00:00,  5.69it/s]\n"
     ]
    }
   ],
   "source": [
    "from scipy import spatial\n",
    "import tqdm\n",
    "\n",
    "similarity_matrix = np.zeros((len(ingredients), len(ingredients)))\n",
    "\n",
    "# get each row's vector\n",
    "for i in tqdm.tqdm(range(matrix.shape[0])):\n",
    "\n",
    "    for j in range(matrix.shape[0]):\n",
    "\n",
    "        if i == j:\n",
    "\n",
    "            continue\n",
    "\n",
    "        # compute similarity\n",
    "        similarity = 1.0 - spatial.distance.cosine(matrix[i], matrix[j])\n",
    "\n",
    "        similarity_matrix[i][j] = similarity\n",
    "        similarity_matrix[j][i] = similarity"
   ]
  },
  {
   "attachments": {},
   "cell_type": "markdown",
   "metadata": {},
   "source": [
    "Save the resulting matrix to disk for re-use:"
   ]
  },
  {
   "cell_type": "code",
   "execution_count": 76,
   "metadata": {},
   "outputs": [],
   "source": [
    "import pickle\n",
    "\n",
    "with open(\"similarity_matrix_trimmed.npy\", \"wb\") as f:\n",
    "    np.save(f, similarity_matrix, allow_pickle=True)"
   ]
  },
  {
   "cell_type": "code",
   "execution_count": 77,
   "metadata": {},
   "outputs": [],
   "source": [
    "import tqdm.notebook as tqdm"
   ]
  },
  {
   "cell_type": "code",
   "execution_count": 6,
   "metadata": {},
   "outputs": [],
   "source": [
    "import numpy as np\n",
    "\n",
    "with open(\"similarity_matrix.npy\", \"rb\") as f:\n",
    "    similarity_matrix = np.load(f)"
   ]
  },
  {
   "attachments": {},
   "cell_type": "markdown",
   "metadata": {},
   "source": [
    "For each value in the similarity matrix:"
   ]
  },
  {
   "cell_type": "code",
   "execution_count": 78,
   "metadata": {},
   "outputs": [],
   "source": [
    "import networkx as nx\n",
    "from networkx.algorithms import approximation\n",
    "\n",
    "\n",
    "def lambda_lookup_func(i):\n",
    "\n",
    "    if i == 3 or i == 4:\n",
    "        return 6\n",
    "    elif i == 5:\n",
    "        return 10\n",
    "    elif i == 6:\n",
    "        return 16\n",
    "    elif i >= 7 and i <= 13:\n",
    "        return 28\n",
    "    elif i == 14:\n",
    "        return 30\n",
    "    elif i == 15:\n",
    "        return 36\n",
    "    elif i == 16:\n",
    "        return 42\n",
    "    elif i == 17:\n",
    "        return 51\n",
    "    elif i == 18:\n",
    "        return 61\n",
    "    elif i == 19:\n",
    "        return 76\n",
    "    elif i == 20:\n",
    "        return 96\n",
    "    elif i == 21:\n",
    "        return 126\n",
    "    elif i == 22:\n",
    "        return 176\n",
    "    elif i >= 23 and i <= 41:\n",
    "        return 276\n",
    "    elif i == 42:\n",
    "        return 288\n",
    "    elif i == 43:\n",
    "        return 344\n",
    "\n",
    "\n",
    "lambda_lookup = {lambda_lookup_func(i) for i in range(3, 44)}"
   ]
  },
  {
   "cell_type": "code",
   "execution_count": 79,
   "metadata": {},
   "outputs": [],
   "source": [
    "# build graph\n",
    "G = nx.Graph()\n",
    "\n",
    "for i in range(similarity_matrix.shape[0]):\n",
    "    G.add_node(i)"
   ]
  },
  {
   "cell_type": "code",
   "execution_count": 80,
   "metadata": {},
   "outputs": [],
   "source": [
    "# get unique similarity values from the similarity matrix\n",
    "unique_similarities = np.unique(similarity_matrix)"
   ]
  },
  {
   "cell_type": "code",
   "execution_count": 81,
   "metadata": {},
   "outputs": [
    {
     "data": {
      "application/vnd.jupyter.widget-view+json": {
       "model_id": "d07198d154454484aa9d6bac7213de99",
       "version_major": 2,
       "version_minor": 0
      },
      "text/plain": [
       "outer:   0%|          | 0/6586847 [00:00<?, ?it/s]"
      ]
     },
     "metadata": {},
     "output_type": "display_data"
    },
    {
     "data": {
      "application/vnd.jupyter.widget-view+json": {
       "model_id": "3f3a7b4d7fc24881a937b9b30d1a3243",
       "version_major": 2,
       "version_minor": 0
      },
      "text/plain": [
       "inner:   0%|          | 0/3631 [00:00<?, ?it/s]"
      ]
     },
     "metadata": {},
     "output_type": "display_data"
    },
    {
     "ename": "",
     "evalue": "",
     "output_type": "error",
     "traceback": [
      "\u001b[1;31mCanceled future for execute_request message before replies were done"
     ]
    },
    {
     "ename": "",
     "evalue": "",
     "output_type": "error",
     "traceback": [
      "\u001b[1;31mThe Kernel crashed while executing code in the the current cell or a previous cell. Please review the code in the cell(s) to identify a possible cause of the failure. Click <a href='https://aka.ms/vscodeJupyterKernelCrash'>here</a> for more info. View Jupyter <a href='command:jupyter.viewOutput'>log</a> for further details."
     ]
    }
   ],
   "source": [
    "lambdas = []\n",
    "\n",
    "for val in tqdm.tqdm(unique_similarities, desc=\"outer\", position=0):\n",
    "\n",
    "    # for each cell in the similarity matrix\n",
    "    for i in tqdm.tqdm(range(similarity_matrix.shape[0]), desc=\"inner\", position=1):\n",
    "\n",
    "        for j in range(i + 1):\n",
    "\n",
    "            if similarity_matrix[i][j] == val:\n",
    "\n",
    "                G.add_edge(i, j)\n",
    "\n",
    "    max_clique = approximation.max_clique(G)\n",
    "\n",
    "    print(\"got max clique\")\n",
    "    max_clique_size = len(max_clique)\n",
    "\n",
    "    lambda_k = lambda_lookup[max_clique_size]\n",
    "\n",
    "    lambdas.append(lambda_k)\n",
    "\n",
    "    G.clear_edges()"
   ]
  }
 ],
 "metadata": {
  "kernelspec": {
   "display_name": ".venv",
   "language": "python",
   "name": "python3"
  },
  "language_info": {
   "codemirror_mode": {
    "name": "ipython",
    "version": 3
   },
   "file_extension": ".py",
   "mimetype": "text/x-python",
   "name": "python",
   "nbconvert_exporter": "python",
   "pygments_lexer": "ipython3",
   "version": "3.8.3"
  },
  "orig_nbformat": 4
 },
 "nbformat": 4,
 "nbformat_minor": 2
}
