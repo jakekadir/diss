{
 "cells": [
  {
   "cell_type": "code",
   "execution_count": 3,
   "metadata": {},
   "outputs": [],
   "source": [
    "from recipe_rec.data_loader import get_recipes\n",
    "import fasttext\n",
    "\n",
    "df = get_recipes(\"./data/recipes.csv\")"
   ]
  },
  {
   "cell_type": "code",
   "execution_count": 5,
   "metadata": {},
   "outputs": [],
   "source": [
    "recipe_ingredients = df[\"RecipeIngredientParts\"].apply(lambda tup: \" \".join(tup))"
   ]
  },
  {
   "cell_type": "code",
   "execution_count": 9,
   "metadata": {},
   "outputs": [],
   "source": [
    "import numpy as np\n",
    "\n",
    "np.savetxt(\"recipe_ingredients.txt\", recipe_ingredients.values, fmt=\"%s\", delimiter=\" \")"
   ]
  },
  {
   "cell_type": "code",
   "execution_count": 10,
   "metadata": {},
   "outputs": [
    {
     "name": "stderr",
     "output_type": "stream",
     "text": [
      "Read 1M words\n",
      "Number of words:  1532\n",
      "Number of labels: 0\n",
      "Progress: 100.0% words/sec/thread:  195132 lr:  0.000000 avg.loss:  2.204887 ETA:   0h 0m 0s\n"
     ]
    }
   ],
   "source": [
    "model = fasttext.train_unsupervised(\"recipe_ingredients.txt\")"
   ]
  },
  {
   "cell_type": "code",
   "execution_count": 12,
   "metadata": {},
   "outputs": [
    {
     "data": {
      "text/plain": [
       "[(0.8642351627349854, 'floury'),\n",
       " (0.6927273869514465, 'margarine'),\n",
       " (0.6907142996788025, 'Flour'),\n",
       " (0.6833755970001221, 'all-purpose'),\n",
       " (0.6740115284919739, 'double-acting'),\n",
       " (0.6689319014549255, 'unsifted'),\n",
       " (0.6551966667175293, 'baking'),\n",
       " (0.6538171172142029, 'buttermilk'),\n",
       " (0.6330019235610962, 'butter'),\n",
       " (0.6202779412269592, 'egg')]"
      ]
     },
     "execution_count": 12,
     "metadata": {},
     "output_type": "execute_result"
    }
   ],
   "source": [
    "model.get_nearest_neighbors(\"flour\")"
   ]
  },
  {
   "cell_type": "code",
   "execution_count": 8,
   "metadata": {},
   "outputs": [],
   "source": [
    "from gensim.models.doc2vec import Doc2Vec, TaggedDocument\n",
    "\n",
    "documents = [TaggedDocument(doc, [i]) for i, doc in enumerate(recipe_ingredients)]\n",
    "\n",
    "model = Doc2Vec(documents, vector_size=100, window=5, min_count=1)"
   ]
  },
  {
   "cell_type": "code",
   "execution_count": 18,
   "metadata": {},
   "outputs": [
    {
     "data": {
      "text/plain": [
       "array([ 3.0341922e-04,  3.2427616e-03, -1.8306019e-03, -3.2440179e-03,\n",
       "        6.2636973e-04, -4.1896780e-03,  1.9220954e-03, -3.6805791e-03,\n",
       "        4.7711716e-03, -3.4263562e-03,  7.6941313e-04, -5.8334350e-04,\n",
       "       -2.5746182e-03,  4.3994677e-03,  3.5632402e-03,  3.8268876e-03,\n",
       "       -1.5373375e-03,  3.3344161e-03, -4.3830900e-03,  3.8889342e-03,\n",
       "        1.5463477e-03, -1.6448844e-03,  6.2150299e-04, -1.5536157e-03,\n",
       "       -4.7559896e-03, -2.0567847e-03,  2.1656419e-03, -1.3391230e-03,\n",
       "       -2.9927760e-03, -4.7388636e-03,  4.8476541e-03,  1.3746441e-04,\n",
       "       -4.4244886e-03,  2.2606861e-03,  9.2640519e-05,  3.9959108e-03,\n",
       "       -2.9367888e-03, -3.3394070e-04, -4.1964245e-03,  2.4957526e-03,\n",
       "       -4.2942092e-03,  4.2350376e-03, -2.0684984e-03, -3.4394770e-04,\n",
       "       -4.1860049e-03, -3.3093565e-03,  2.3652338e-03, -1.1969614e-03,\n",
       "        1.2894493e-03, -4.7356025e-03,  4.5440411e-03,  2.2132308e-03,\n",
       "        3.4102530e-03,  2.0889170e-03,  7.1129558e-04, -1.0048134e-03,\n",
       "        1.4772367e-03, -2.1572900e-03, -3.2545971e-03, -1.4267736e-03,\n",
       "       -4.6788608e-03,  3.0020373e-03,  1.6228354e-03, -1.9714946e-03,\n",
       "        4.4627446e-03,  2.2844023e-03,  3.0599595e-03, -1.1423650e-03,\n",
       "        1.9168365e-03, -2.1815747e-03, -3.1317526e-03,  3.0926145e-03,\n",
       "        3.8891434e-05, -1.9891195e-03,  3.1790566e-03,  4.7128494e-03,\n",
       "        5.7735562e-04,  4.8392694e-03, -5.4496614e-04, -4.0689465e-03,\n",
       "        3.8903416e-03,  1.6054005e-03,  3.3963174e-03,  3.1297719e-03,\n",
       "       -2.1858752e-04,  4.8107849e-03,  1.4826768e-03,  8.9996279e-04,\n",
       "        3.9077904e-03,  2.4649680e-03,  4.1217501e-03,  2.0548629e-03,\n",
       "       -3.6406463e-03, -4.2891433e-03, -2.7535141e-03,  2.5803226e-03,\n",
       "        1.4098900e-03,  3.9377059e-03,  2.1640384e-03,  8.0026151e-04],\n",
       "      dtype=float32)"
      ]
     },
     "execution_count": 18,
     "metadata": {},
     "output_type": "execute_result"
    }
   ],
   "source": [
    "model.infer_vector([\"sugar\", \"egg\"])"
   ]
  }
 ],
 "metadata": {
  "kernelspec": {
   "display_name": ".venv",
   "language": "python",
   "name": "python3"
  },
  "language_info": {
   "codemirror_mode": {
    "name": "ipython",
    "version": 3
   },
   "file_extension": ".py",
   "mimetype": "text/x-python",
   "name": "python",
   "nbconvert_exporter": "python",
   "pygments_lexer": "ipython3",
   "version": "3.8.3"
  },
  "orig_nbformat": 4
 },
 "nbformat": 4,
 "nbformat_minor": 2
}
